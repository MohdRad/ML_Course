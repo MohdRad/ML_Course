{
  "nbformat": 4,
  "nbformat_minor": 0,
  "metadata": {
    "colab": {
      "provenance": [],
      "authorship_tag": "ABX9TyNfG8Ue7+or6pKol9GEdZkj",
      "include_colab_link": true
    },
    "kernelspec": {
      "name": "python3",
      "display_name": "Python 3"
    },
    "language_info": {
      "name": "python"
    }
  },
  "cells": [
    {
      "cell_type": "markdown",
      "metadata": {
        "id": "view-in-github",
        "colab_type": "text"
      },
      "source": [
        "<a href=\"https://colab.research.google.com/github/MohdRad/ML_Course/blob/main/sklearn2.ipynb\" target=\"_parent\"><img src=\"https://colab.research.google.com/assets/colab-badge.svg\" alt=\"Open In Colab\"/></a>"
      ]
    },
    {
      "cell_type": "markdown",
      "source": [
        "In this tutorial, we will go more in depth with sklearn, we will see how how to **tune hyperparameters** and **generate learning curves**.\n",
        "\n",
        "Start by importing the related packages."
      ],
      "metadata": {
        "id": "2yFAhrleaiEC"
      }
    },
    {
      "cell_type": "code",
      "execution_count": 2,
      "metadata": {
        "id": "sQs6FiL-aCMS"
      },
      "outputs": [],
      "source": [
        "import pandas as pd\n",
        "import numpy as np\n",
        "from sklearn.preprocessing import MinMaxScaler\n",
        "from sklearn.tree import DecisionTreeRegressor # Decision Tree Regressor\n",
        "from sklearn.ensemble import RandomForestRegressor # Random Forest\n",
        "from sklearn.ensemble import GradientBoostingRegressor # Gradient Boosting\n",
        "from sklearn.svm import SVR # Support Vector Machine\n",
        "from sklearn.metrics import mean_absolute_error, mean_squared_error, r2_score\n",
        "from sklearn.utils import shuffle\n",
        "# New packages (were not imported in the previous tutorial)\n",
        "from sklearn.model_selection import validation_curve, learning_curve\n",
        "from sklearn.model_selection import GridSearchCV\n",
        "# To plot learning curves\n",
        "import matplotlib.pyplot as plt\n"
      ]
    },
    {
      "cell_type": "markdown",
      "source": [
        "In this tutorial we will use different dataset, the dataset is about predicting student perforamce based on different variables like study hours, previous scores, and others."
      ],
      "metadata": {
        "id": "j9Xa_lLhdCuc"
      }
    },
    {
      "cell_type": "code",
      "source": [
        "# Import the data and shuffle it (randomize it)\n",
        "df = shuffle(pd.read_csv('Student_Performance.csv'))\n",
        "# Display the data\n",
        "df"
      ],
      "metadata": {
        "colab": {
          "base_uri": "https://localhost:8080/",
          "height": 424
        },
        "id": "6mYrTKx3ddmL",
        "outputId": "a25a17e0-b378-416d-a4bc-8e3e56486dcb"
      },
      "execution_count": 3,
      "outputs": [
        {
          "output_type": "execute_result",
          "data": {
            "text/plain": [
              "      Hours Studied  Previous Scores Extracurricular Activities  Sleep Hours  \\\n",
              "2918              2               73                        Yes            4   \n",
              "3901              4               80                         No            8   \n",
              "9381              6               50                         No            5   \n",
              "350               5               83                         No            5   \n",
              "3018              9               50                         No            6   \n",
              "...             ...              ...                        ...          ...   \n",
              "750               3               54                         No            5   \n",
              "8392              1               49                        Yes            5   \n",
              "3337              9               66                         No            8   \n",
              "9107              3               56                        Yes            7   \n",
              "7452              4               67                        Yes            6   \n",
              "\n",
              "      Sample Question Papers Practiced  Performance Index  \n",
              "2918                                 5               49.0  \n",
              "3901                                 0               63.0  \n",
              "9381                                 2               35.0  \n",
              "350                                  0               68.0  \n",
              "3018                                 3               44.0  \n",
              "...                                ...                ...  \n",
              "750                                  5               34.0  \n",
              "8392                                 7               24.0  \n",
              "3337                                 5               64.0  \n",
              "9107                                 9               34.0  \n",
              "7452                                 2               51.0  \n",
              "\n",
              "[10000 rows x 6 columns]"
            ],
            "text/html": [
              "\n",
              "  <div id=\"df-2e1c4b5d-ab8c-494a-8ac1-8544efda3068\" class=\"colab-df-container\">\n",
              "    <div>\n",
              "<style scoped>\n",
              "    .dataframe tbody tr th:only-of-type {\n",
              "        vertical-align: middle;\n",
              "    }\n",
              "\n",
              "    .dataframe tbody tr th {\n",
              "        vertical-align: top;\n",
              "    }\n",
              "\n",
              "    .dataframe thead th {\n",
              "        text-align: right;\n",
              "    }\n",
              "</style>\n",
              "<table border=\"1\" class=\"dataframe\">\n",
              "  <thead>\n",
              "    <tr style=\"text-align: right;\">\n",
              "      <th></th>\n",
              "      <th>Hours Studied</th>\n",
              "      <th>Previous Scores</th>\n",
              "      <th>Extracurricular Activities</th>\n",
              "      <th>Sleep Hours</th>\n",
              "      <th>Sample Question Papers Practiced</th>\n",
              "      <th>Performance Index</th>\n",
              "    </tr>\n",
              "  </thead>\n",
              "  <tbody>\n",
              "    <tr>\n",
              "      <th>2918</th>\n",
              "      <td>2</td>\n",
              "      <td>73</td>\n",
              "      <td>Yes</td>\n",
              "      <td>4</td>\n",
              "      <td>5</td>\n",
              "      <td>49.0</td>\n",
              "    </tr>\n",
              "    <tr>\n",
              "      <th>3901</th>\n",
              "      <td>4</td>\n",
              "      <td>80</td>\n",
              "      <td>No</td>\n",
              "      <td>8</td>\n",
              "      <td>0</td>\n",
              "      <td>63.0</td>\n",
              "    </tr>\n",
              "    <tr>\n",
              "      <th>9381</th>\n",
              "      <td>6</td>\n",
              "      <td>50</td>\n",
              "      <td>No</td>\n",
              "      <td>5</td>\n",
              "      <td>2</td>\n",
              "      <td>35.0</td>\n",
              "    </tr>\n",
              "    <tr>\n",
              "      <th>350</th>\n",
              "      <td>5</td>\n",
              "      <td>83</td>\n",
              "      <td>No</td>\n",
              "      <td>5</td>\n",
              "      <td>0</td>\n",
              "      <td>68.0</td>\n",
              "    </tr>\n",
              "    <tr>\n",
              "      <th>3018</th>\n",
              "      <td>9</td>\n",
              "      <td>50</td>\n",
              "      <td>No</td>\n",
              "      <td>6</td>\n",
              "      <td>3</td>\n",
              "      <td>44.0</td>\n",
              "    </tr>\n",
              "    <tr>\n",
              "      <th>...</th>\n",
              "      <td>...</td>\n",
              "      <td>...</td>\n",
              "      <td>...</td>\n",
              "      <td>...</td>\n",
              "      <td>...</td>\n",
              "      <td>...</td>\n",
              "    </tr>\n",
              "    <tr>\n",
              "      <th>750</th>\n",
              "      <td>3</td>\n",
              "      <td>54</td>\n",
              "      <td>No</td>\n",
              "      <td>5</td>\n",
              "      <td>5</td>\n",
              "      <td>34.0</td>\n",
              "    </tr>\n",
              "    <tr>\n",
              "      <th>8392</th>\n",
              "      <td>1</td>\n",
              "      <td>49</td>\n",
              "      <td>Yes</td>\n",
              "      <td>5</td>\n",
              "      <td>7</td>\n",
              "      <td>24.0</td>\n",
              "    </tr>\n",
              "    <tr>\n",
              "      <th>3337</th>\n",
              "      <td>9</td>\n",
              "      <td>66</td>\n",
              "      <td>No</td>\n",
              "      <td>8</td>\n",
              "      <td>5</td>\n",
              "      <td>64.0</td>\n",
              "    </tr>\n",
              "    <tr>\n",
              "      <th>9107</th>\n",
              "      <td>3</td>\n",
              "      <td>56</td>\n",
              "      <td>Yes</td>\n",
              "      <td>7</td>\n",
              "      <td>9</td>\n",
              "      <td>34.0</td>\n",
              "    </tr>\n",
              "    <tr>\n",
              "      <th>7452</th>\n",
              "      <td>4</td>\n",
              "      <td>67</td>\n",
              "      <td>Yes</td>\n",
              "      <td>6</td>\n",
              "      <td>2</td>\n",
              "      <td>51.0</td>\n",
              "    </tr>\n",
              "  </tbody>\n",
              "</table>\n",
              "<p>10000 rows × 6 columns</p>\n",
              "</div>\n",
              "    <div class=\"colab-df-buttons\">\n",
              "\n",
              "  <div class=\"colab-df-container\">\n",
              "    <button class=\"colab-df-convert\" onclick=\"convertToInteractive('df-2e1c4b5d-ab8c-494a-8ac1-8544efda3068')\"\n",
              "            title=\"Convert this dataframe to an interactive table.\"\n",
              "            style=\"display:none;\">\n",
              "\n",
              "  <svg xmlns=\"http://www.w3.org/2000/svg\" height=\"24px\" viewBox=\"0 -960 960 960\">\n",
              "    <path d=\"M120-120v-720h720v720H120Zm60-500h600v-160H180v160Zm220 220h160v-160H400v160Zm0 220h160v-160H400v160ZM180-400h160v-160H180v160Zm440 0h160v-160H620v160ZM180-180h160v-160H180v160Zm440 0h160v-160H620v160Z\"/>\n",
              "  </svg>\n",
              "    </button>\n",
              "\n",
              "  <style>\n",
              "    .colab-df-container {\n",
              "      display:flex;\n",
              "      gap: 12px;\n",
              "    }\n",
              "\n",
              "    .colab-df-convert {\n",
              "      background-color: #E8F0FE;\n",
              "      border: none;\n",
              "      border-radius: 50%;\n",
              "      cursor: pointer;\n",
              "      display: none;\n",
              "      fill: #1967D2;\n",
              "      height: 32px;\n",
              "      padding: 0 0 0 0;\n",
              "      width: 32px;\n",
              "    }\n",
              "\n",
              "    .colab-df-convert:hover {\n",
              "      background-color: #E2EBFA;\n",
              "      box-shadow: 0px 1px 2px rgba(60, 64, 67, 0.3), 0px 1px 3px 1px rgba(60, 64, 67, 0.15);\n",
              "      fill: #174EA6;\n",
              "    }\n",
              "\n",
              "    .colab-df-buttons div {\n",
              "      margin-bottom: 4px;\n",
              "    }\n",
              "\n",
              "    [theme=dark] .colab-df-convert {\n",
              "      background-color: #3B4455;\n",
              "      fill: #D2E3FC;\n",
              "    }\n",
              "\n",
              "    [theme=dark] .colab-df-convert:hover {\n",
              "      background-color: #434B5C;\n",
              "      box-shadow: 0px 1px 3px 1px rgba(0, 0, 0, 0.15);\n",
              "      filter: drop-shadow(0px 1px 2px rgba(0, 0, 0, 0.3));\n",
              "      fill: #FFFFFF;\n",
              "    }\n",
              "  </style>\n",
              "\n",
              "    <script>\n",
              "      const buttonEl =\n",
              "        document.querySelector('#df-2e1c4b5d-ab8c-494a-8ac1-8544efda3068 button.colab-df-convert');\n",
              "      buttonEl.style.display =\n",
              "        google.colab.kernel.accessAllowed ? 'block' : 'none';\n",
              "\n",
              "      async function convertToInteractive(key) {\n",
              "        const element = document.querySelector('#df-2e1c4b5d-ab8c-494a-8ac1-8544efda3068');\n",
              "        const dataTable =\n",
              "          await google.colab.kernel.invokeFunction('convertToInteractive',\n",
              "                                                    [key], {});\n",
              "        if (!dataTable) return;\n",
              "\n",
              "        const docLinkHtml = 'Like what you see? Visit the ' +\n",
              "          '<a target=\"_blank\" href=https://colab.research.google.com/notebooks/data_table.ipynb>data table notebook</a>'\n",
              "          + ' to learn more about interactive tables.';\n",
              "        element.innerHTML = '';\n",
              "        dataTable['output_type'] = 'display_data';\n",
              "        await google.colab.output.renderOutput(dataTable, element);\n",
              "        const docLink = document.createElement('div');\n",
              "        docLink.innerHTML = docLinkHtml;\n",
              "        element.appendChild(docLink);\n",
              "      }\n",
              "    </script>\n",
              "  </div>\n",
              "\n",
              "\n",
              "<div id=\"df-2b14c57b-bc69-4705-882e-de6269fec6ee\">\n",
              "  <button class=\"colab-df-quickchart\" onclick=\"quickchart('df-2b14c57b-bc69-4705-882e-de6269fec6ee')\"\n",
              "            title=\"Suggest charts\"\n",
              "            style=\"display:none;\">\n",
              "\n",
              "<svg xmlns=\"http://www.w3.org/2000/svg\" height=\"24px\"viewBox=\"0 0 24 24\"\n",
              "     width=\"24px\">\n",
              "    <g>\n",
              "        <path d=\"M19 3H5c-1.1 0-2 .9-2 2v14c0 1.1.9 2 2 2h14c1.1 0 2-.9 2-2V5c0-1.1-.9-2-2-2zM9 17H7v-7h2v7zm4 0h-2V7h2v10zm4 0h-2v-4h2v4z\"/>\n",
              "    </g>\n",
              "</svg>\n",
              "  </button>\n",
              "\n",
              "<style>\n",
              "  .colab-df-quickchart {\n",
              "      --bg-color: #E8F0FE;\n",
              "      --fill-color: #1967D2;\n",
              "      --hover-bg-color: #E2EBFA;\n",
              "      --hover-fill-color: #174EA6;\n",
              "      --disabled-fill-color: #AAA;\n",
              "      --disabled-bg-color: #DDD;\n",
              "  }\n",
              "\n",
              "  [theme=dark] .colab-df-quickchart {\n",
              "      --bg-color: #3B4455;\n",
              "      --fill-color: #D2E3FC;\n",
              "      --hover-bg-color: #434B5C;\n",
              "      --hover-fill-color: #FFFFFF;\n",
              "      --disabled-bg-color: #3B4455;\n",
              "      --disabled-fill-color: #666;\n",
              "  }\n",
              "\n",
              "  .colab-df-quickchart {\n",
              "    background-color: var(--bg-color);\n",
              "    border: none;\n",
              "    border-radius: 50%;\n",
              "    cursor: pointer;\n",
              "    display: none;\n",
              "    fill: var(--fill-color);\n",
              "    height: 32px;\n",
              "    padding: 0;\n",
              "    width: 32px;\n",
              "  }\n",
              "\n",
              "  .colab-df-quickchart:hover {\n",
              "    background-color: var(--hover-bg-color);\n",
              "    box-shadow: 0 1px 2px rgba(60, 64, 67, 0.3), 0 1px 3px 1px rgba(60, 64, 67, 0.15);\n",
              "    fill: var(--button-hover-fill-color);\n",
              "  }\n",
              "\n",
              "  .colab-df-quickchart-complete:disabled,\n",
              "  .colab-df-quickchart-complete:disabled:hover {\n",
              "    background-color: var(--disabled-bg-color);\n",
              "    fill: var(--disabled-fill-color);\n",
              "    box-shadow: none;\n",
              "  }\n",
              "\n",
              "  .colab-df-spinner {\n",
              "    border: 2px solid var(--fill-color);\n",
              "    border-color: transparent;\n",
              "    border-bottom-color: var(--fill-color);\n",
              "    animation:\n",
              "      spin 1s steps(1) infinite;\n",
              "  }\n",
              "\n",
              "  @keyframes spin {\n",
              "    0% {\n",
              "      border-color: transparent;\n",
              "      border-bottom-color: var(--fill-color);\n",
              "      border-left-color: var(--fill-color);\n",
              "    }\n",
              "    20% {\n",
              "      border-color: transparent;\n",
              "      border-left-color: var(--fill-color);\n",
              "      border-top-color: var(--fill-color);\n",
              "    }\n",
              "    30% {\n",
              "      border-color: transparent;\n",
              "      border-left-color: var(--fill-color);\n",
              "      border-top-color: var(--fill-color);\n",
              "      border-right-color: var(--fill-color);\n",
              "    }\n",
              "    40% {\n",
              "      border-color: transparent;\n",
              "      border-right-color: var(--fill-color);\n",
              "      border-top-color: var(--fill-color);\n",
              "    }\n",
              "    60% {\n",
              "      border-color: transparent;\n",
              "      border-right-color: var(--fill-color);\n",
              "    }\n",
              "    80% {\n",
              "      border-color: transparent;\n",
              "      border-right-color: var(--fill-color);\n",
              "      border-bottom-color: var(--fill-color);\n",
              "    }\n",
              "    90% {\n",
              "      border-color: transparent;\n",
              "      border-bottom-color: var(--fill-color);\n",
              "    }\n",
              "  }\n",
              "</style>\n",
              "\n",
              "  <script>\n",
              "    async function quickchart(key) {\n",
              "      const quickchartButtonEl =\n",
              "        document.querySelector('#' + key + ' button');\n",
              "      quickchartButtonEl.disabled = true;  // To prevent multiple clicks.\n",
              "      quickchartButtonEl.classList.add('colab-df-spinner');\n",
              "      try {\n",
              "        const charts = await google.colab.kernel.invokeFunction(\n",
              "            'suggestCharts', [key], {});\n",
              "      } catch (error) {\n",
              "        console.error('Error during call to suggestCharts:', error);\n",
              "      }\n",
              "      quickchartButtonEl.classList.remove('colab-df-spinner');\n",
              "      quickchartButtonEl.classList.add('colab-df-quickchart-complete');\n",
              "    }\n",
              "    (() => {\n",
              "      let quickchartButtonEl =\n",
              "        document.querySelector('#df-2b14c57b-bc69-4705-882e-de6269fec6ee button');\n",
              "      quickchartButtonEl.style.display =\n",
              "        google.colab.kernel.accessAllowed ? 'block' : 'none';\n",
              "    })();\n",
              "  </script>\n",
              "</div>\n",
              "\n",
              "  <div id=\"id_4eba0b0e-63d1-409c-b5f2-d627f558aa15\">\n",
              "    <style>\n",
              "      .colab-df-generate {\n",
              "        background-color: #E8F0FE;\n",
              "        border: none;\n",
              "        border-radius: 50%;\n",
              "        cursor: pointer;\n",
              "        display: none;\n",
              "        fill: #1967D2;\n",
              "        height: 32px;\n",
              "        padding: 0 0 0 0;\n",
              "        width: 32px;\n",
              "      }\n",
              "\n",
              "      .colab-df-generate:hover {\n",
              "        background-color: #E2EBFA;\n",
              "        box-shadow: 0px 1px 2px rgba(60, 64, 67, 0.3), 0px 1px 3px 1px rgba(60, 64, 67, 0.15);\n",
              "        fill: #174EA6;\n",
              "      }\n",
              "\n",
              "      [theme=dark] .colab-df-generate {\n",
              "        background-color: #3B4455;\n",
              "        fill: #D2E3FC;\n",
              "      }\n",
              "\n",
              "      [theme=dark] .colab-df-generate:hover {\n",
              "        background-color: #434B5C;\n",
              "        box-shadow: 0px 1px 3px 1px rgba(0, 0, 0, 0.15);\n",
              "        filter: drop-shadow(0px 1px 2px rgba(0, 0, 0, 0.3));\n",
              "        fill: #FFFFFF;\n",
              "      }\n",
              "    </style>\n",
              "    <button class=\"colab-df-generate\" onclick=\"generateWithVariable('df')\"\n",
              "            title=\"Generate code using this dataframe.\"\n",
              "            style=\"display:none;\">\n",
              "\n",
              "  <svg xmlns=\"http://www.w3.org/2000/svg\" height=\"24px\"viewBox=\"0 0 24 24\"\n",
              "       width=\"24px\">\n",
              "    <path d=\"M7,19H8.4L18.45,9,17,7.55,7,17.6ZM5,21V16.75L18.45,3.32a2,2,0,0,1,2.83,0l1.4,1.43a1.91,1.91,0,0,1,.58,1.4,1.91,1.91,0,0,1-.58,1.4L9.25,21ZM18.45,9,17,7.55Zm-12,3A5.31,5.31,0,0,0,4.9,8.1,5.31,5.31,0,0,0,1,6.5,5.31,5.31,0,0,0,4.9,4.9,5.31,5.31,0,0,0,6.5,1,5.31,5.31,0,0,0,8.1,4.9,5.31,5.31,0,0,0,12,6.5,5.46,5.46,0,0,0,6.5,12Z\"/>\n",
              "  </svg>\n",
              "    </button>\n",
              "    <script>\n",
              "      (() => {\n",
              "      const buttonEl =\n",
              "        document.querySelector('#id_4eba0b0e-63d1-409c-b5f2-d627f558aa15 button.colab-df-generate');\n",
              "      buttonEl.style.display =\n",
              "        google.colab.kernel.accessAllowed ? 'block' : 'none';\n",
              "\n",
              "      buttonEl.onclick = () => {\n",
              "        google.colab.notebook.generateWithVariable('df');\n",
              "      }\n",
              "      })();\n",
              "    </script>\n",
              "  </div>\n",
              "\n",
              "    </div>\n",
              "  </div>\n"
            ],
            "application/vnd.google.colaboratory.intrinsic+json": {
              "type": "dataframe",
              "variable_name": "df",
              "summary": "{\n  \"name\": \"df\",\n  \"rows\": 10000,\n  \"fields\": [\n    {\n      \"column\": \"Hours Studied\",\n      \"properties\": {\n        \"dtype\": \"number\",\n        \"std\": 2,\n        \"min\": 1,\n        \"max\": 9,\n        \"num_unique_values\": 9,\n        \"samples\": [\n          7,\n          4,\n          3\n        ],\n        \"semantic_type\": \"\",\n        \"description\": \"\"\n      }\n    },\n    {\n      \"column\": \"Previous Scores\",\n      \"properties\": {\n        \"dtype\": \"number\",\n        \"std\": 17,\n        \"min\": 40,\n        \"max\": 99,\n        \"num_unique_values\": 60,\n        \"samples\": [\n          73,\n          49,\n          94\n        ],\n        \"semantic_type\": \"\",\n        \"description\": \"\"\n      }\n    },\n    {\n      \"column\": \"Extracurricular Activities\",\n      \"properties\": {\n        \"dtype\": \"category\",\n        \"num_unique_values\": 2,\n        \"samples\": [\n          \"No\",\n          \"Yes\"\n        ],\n        \"semantic_type\": \"\",\n        \"description\": \"\"\n      }\n    },\n    {\n      \"column\": \"Sleep Hours\",\n      \"properties\": {\n        \"dtype\": \"number\",\n        \"std\": 1,\n        \"min\": 4,\n        \"max\": 9,\n        \"num_unique_values\": 6,\n        \"samples\": [\n          4,\n          8\n        ],\n        \"semantic_type\": \"\",\n        \"description\": \"\"\n      }\n    },\n    {\n      \"column\": \"Sample Question Papers Practiced\",\n      \"properties\": {\n        \"dtype\": \"number\",\n        \"std\": 2,\n        \"min\": 0,\n        \"max\": 9,\n        \"num_unique_values\": 10,\n        \"samples\": [\n          6,\n          0\n        ],\n        \"semantic_type\": \"\",\n        \"description\": \"\"\n      }\n    },\n    {\n      \"column\": \"Performance Index\",\n      \"properties\": {\n        \"dtype\": \"number\",\n        \"std\": 19.212557799463344,\n        \"min\": 10.0,\n        \"max\": 100.0,\n        \"num_unique_values\": 91,\n        \"samples\": [\n          50.0,\n          43.0\n        ],\n        \"semantic_type\": \"\",\n        \"description\": \"\"\n      }\n    }\n  ]\n}"
            }
          },
          "metadata": {},
          "execution_count": 3
        }
      ]
    },
    {
      "cell_type": "markdown",
      "source": [
        "The output is `Performance Index`, a `float` between `0.0` and `100.0`. The inputs are 4 features shown in df above."
      ],
      "metadata": {
        "id": "oqy6tHlzeGqn"
      }
    },
    {
      "cell_type": "code",
      "source": [
        "# Define the inputs, drop the output and non numeric column 'Extracurricular Activities'\n",
        "X = np.array(df.drop(['Performance Index','Extracurricular Activities'], axis=1))\n",
        "\n",
        "# Define the output\n",
        "y = np.array(df['Performance Index'])\n",
        "\n",
        "# Since we have only one output,\n",
        "# we need to make it 2D array to avoid problems later in the scaling\n",
        "y = y.reshape(-1,1)"
      ],
      "metadata": {
        "id": "T9_QSLm_eCoz"
      },
      "execution_count": 4,
      "outputs": []
    },
    {
      "cell_type": "markdown",
      "source": [
        "Now we split the data into training (80\\%) and testing (20\\%)."
      ],
      "metadata": {
        "id": "FdRia3czf6rP"
      }
    },
    {
      "cell_type": "code",
      "source": [
        "L = int(0.8*len(X))\n",
        "X_train = X[:L]\n",
        "y_train = y[:L]\n",
        "X_test = X[L:]\n",
        "y_test = y[L:]"
      ],
      "metadata": {
        "id": "CZPNlRVOf_MA"
      },
      "execution_count": 5,
      "outputs": []
    },
    {
      "cell_type": "markdown",
      "source": [
        "Now we need to scale the data."
      ],
      "metadata": {
        "id": "9DmCfIFkghnn"
      }
    },
    {
      "cell_type": "code",
      "source": [
        "# X scaler\n",
        "X_scaler = MinMaxScaler()\n",
        "# Let the scaler defines the maximum and the minimum\n",
        "X_scaler.fit(X_train)\n",
        "# Apply scaling to train X data\n",
        "X_train_scaled = X_scaler.transform(X_train)\n",
        "# test data\n",
        "X_scaler.fit(X_test)\n",
        "X_test_scaled = X_scaler.transform(X_test)\n",
        "\n",
        "# y scaler\n",
        "y_scaler = MinMaxScaler()\n",
        "y_scaler.fit(y_train)\n",
        "y_train_scaled = y_scaler.transform(y_train)\n",
        "y_scaler.fit(y_test)"
      ],
      "metadata": {
        "colab": {
          "base_uri": "https://localhost:8080/",
          "height": 75
        },
        "id": "LXLPcbPegktf",
        "outputId": "5287d4ec-2e46-46b1-dd6d-336f75fa54d2"
      },
      "execution_count": 6,
      "outputs": [
        {
          "output_type": "execute_result",
          "data": {
            "text/plain": [
              "MinMaxScaler()"
            ],
            "text/html": [
              "<style>#sk-container-id-1 {color: black;background-color: white;}#sk-container-id-1 pre{padding: 0;}#sk-container-id-1 div.sk-toggleable {background-color: white;}#sk-container-id-1 label.sk-toggleable__label {cursor: pointer;display: block;width: 100%;margin-bottom: 0;padding: 0.3em;box-sizing: border-box;text-align: center;}#sk-container-id-1 label.sk-toggleable__label-arrow:before {content: \"▸\";float: left;margin-right: 0.25em;color: #696969;}#sk-container-id-1 label.sk-toggleable__label-arrow:hover:before {color: black;}#sk-container-id-1 div.sk-estimator:hover label.sk-toggleable__label-arrow:before {color: black;}#sk-container-id-1 div.sk-toggleable__content {max-height: 0;max-width: 0;overflow: hidden;text-align: left;background-color: #f0f8ff;}#sk-container-id-1 div.sk-toggleable__content pre {margin: 0.2em;color: black;border-radius: 0.25em;background-color: #f0f8ff;}#sk-container-id-1 input.sk-toggleable__control:checked~div.sk-toggleable__content {max-height: 200px;max-width: 100%;overflow: auto;}#sk-container-id-1 input.sk-toggleable__control:checked~label.sk-toggleable__label-arrow:before {content: \"▾\";}#sk-container-id-1 div.sk-estimator input.sk-toggleable__control:checked~label.sk-toggleable__label {background-color: #d4ebff;}#sk-container-id-1 div.sk-label input.sk-toggleable__control:checked~label.sk-toggleable__label {background-color: #d4ebff;}#sk-container-id-1 input.sk-hidden--visually {border: 0;clip: rect(1px 1px 1px 1px);clip: rect(1px, 1px, 1px, 1px);height: 1px;margin: -1px;overflow: hidden;padding: 0;position: absolute;width: 1px;}#sk-container-id-1 div.sk-estimator {font-family: monospace;background-color: #f0f8ff;border: 1px dotted black;border-radius: 0.25em;box-sizing: border-box;margin-bottom: 0.5em;}#sk-container-id-1 div.sk-estimator:hover {background-color: #d4ebff;}#sk-container-id-1 div.sk-parallel-item::after {content: \"\";width: 100%;border-bottom: 1px solid gray;flex-grow: 1;}#sk-container-id-1 div.sk-label:hover label.sk-toggleable__label {background-color: #d4ebff;}#sk-container-id-1 div.sk-serial::before {content: \"\";position: absolute;border-left: 1px solid gray;box-sizing: border-box;top: 0;bottom: 0;left: 50%;z-index: 0;}#sk-container-id-1 div.sk-serial {display: flex;flex-direction: column;align-items: center;background-color: white;padding-right: 0.2em;padding-left: 0.2em;position: relative;}#sk-container-id-1 div.sk-item {position: relative;z-index: 1;}#sk-container-id-1 div.sk-parallel {display: flex;align-items: stretch;justify-content: center;background-color: white;position: relative;}#sk-container-id-1 div.sk-item::before, #sk-container-id-1 div.sk-parallel-item::before {content: \"\";position: absolute;border-left: 1px solid gray;box-sizing: border-box;top: 0;bottom: 0;left: 50%;z-index: -1;}#sk-container-id-1 div.sk-parallel-item {display: flex;flex-direction: column;z-index: 1;position: relative;background-color: white;}#sk-container-id-1 div.sk-parallel-item:first-child::after {align-self: flex-end;width: 50%;}#sk-container-id-1 div.sk-parallel-item:last-child::after {align-self: flex-start;width: 50%;}#sk-container-id-1 div.sk-parallel-item:only-child::after {width: 0;}#sk-container-id-1 div.sk-dashed-wrapped {border: 1px dashed gray;margin: 0 0.4em 0.5em 0.4em;box-sizing: border-box;padding-bottom: 0.4em;background-color: white;}#sk-container-id-1 div.sk-label label {font-family: monospace;font-weight: bold;display: inline-block;line-height: 1.2em;}#sk-container-id-1 div.sk-label-container {text-align: center;}#sk-container-id-1 div.sk-container {/* jupyter's `normalize.less` sets `[hidden] { display: none; }` but bootstrap.min.css set `[hidden] { display: none !important; }` so we also need the `!important` here to be able to override the default hidden behavior on the sphinx rendered scikit-learn.org. See: https://github.com/scikit-learn/scikit-learn/issues/21755 */display: inline-block !important;position: relative;}#sk-container-id-1 div.sk-text-repr-fallback {display: none;}</style><div id=\"sk-container-id-1\" class=\"sk-top-container\"><div class=\"sk-text-repr-fallback\"><pre>MinMaxScaler()</pre><b>In a Jupyter environment, please rerun this cell to show the HTML representation or trust the notebook. <br />On GitHub, the HTML representation is unable to render, please try loading this page with nbviewer.org.</b></div><div class=\"sk-container\" hidden><div class=\"sk-item\"><div class=\"sk-estimator sk-toggleable\"><input class=\"sk-toggleable__control sk-hidden--visually\" id=\"sk-estimator-id-1\" type=\"checkbox\" checked><label for=\"sk-estimator-id-1\" class=\"sk-toggleable__label sk-toggleable__label-arrow\">MinMaxScaler</label><div class=\"sk-toggleable__content\"><pre>MinMaxScaler()</pre></div></div></div></div></div>"
            ]
          },
          "metadata": {},
          "execution_count": 6
        }
      ]
    },
    {
      "cell_type": "markdown",
      "source": [
        "Let's start with `DecsionTree Regressor`, we generate the learning curves that shows **when training should be stopped**. This is important because in some cases, **using more data causes overfitting**; the model performance starts to decrease as you use more data.  \n",
        "\n",
        "The y-axis of the learning curves is one of the metrics like Mean Absolute Error or Coefficient of detrmination. However, the x-axis is defined based on how the algorithm is trained. For Decision Tree, the x-axis is the size of the data used. For examples, we have 7000 training samples, these can be divided into 20 batches of 350 observations, the training score is recoreded at each of the 350 samples.\n",
        "\n",
        "Another important aspect in `learning_curves` is the cross validation (`cv`). The common cross validation approach is **k-fold** cross validation. The training is divided in equal `k folds` where `k` is defined by the user. In our examples, since we have 8000 training samples, our training data can be devided into **8** folds, each fold has 1000 samples. For **8 loops**, the model uses 7 folds (7000 data points) for training and and 1 fold (1000 points) for validation. Consequently, we will have 8 training and 8 testing metrics, the common approach is to average these metrics. The figure below is for 5 folds.      \n",
        "\n",
        "![image.png](data:image/png;base64,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)"
      ],
      "metadata": {
        "id": "-e1z2bP-j5Tq"
      }
    },
    {
      "cell_type": "code",
      "source": [
        "# Define the regressor\n",
        "dtr = DecisionTreeRegressor()\n",
        "# learning curves must be assigned to three variables\n",
        "# (1) size of samples for n-th batches, (2) train_scores, (3) val_scores\n",
        "# We must follow this order to avoid the confusion between train and validation\n",
        "train_sizes, train_scores, val_scores = learning_curve(dtr,                     # the ML model\n",
        "                                                        X_train_scaled,          # Training input\n",
        "                                                        y_train_scaled,          # Training output\n",
        "                                                        cv=8,                    # Cross validation (8 folds)\n",
        "                                                        n_jobs=3,                # number of jobs to be done in parallel, this is useful to reduce the computing time\n",
        "                                                        train_sizes=np.linspace(0.05, 1.0, 20), # The fraction of data to be used in each of the 20 batches.\n",
        "                                                        scoring='r2')  # The metric to be used on the y-axis, I used R^2, other options can be checked by  # import sklearn\n",
        "                                                                                                                                                           # sklearn.metrics.get_scorer_names()\n",
        "# For each of 20 batches, we will get 8 metrics, see test_scores\n",
        "# We want to compute their average, np.mean is used for this purpose\n",
        "train_scores_mean = np.mean(train_scores, axis=1)\n",
        "val_scores_mean = np.mean(val_scores, axis=1)\n",
        "\n",
        "# Learning curves plot\n",
        "fig, ax = plt.subplots()\n",
        "plt.plot(train_sizes, train_scores_mean, label='Training')\n",
        "plt.plot(train_sizes, val_scores_mean, label='Validation')\n",
        "ax.set_ylabel('R$^2$')\n",
        "ax.set_xlabel('Training Data Size')\n",
        "plt.legend()\n"
      ],
      "metadata": {
        "colab": {
          "base_uri": "https://localhost:8080/",
          "height": 466
        },
        "id": "MbdTbNWRkfpz",
        "outputId": "6428d3bb-f5a2-4276-97b3-329eabfaa306"
      },
      "execution_count": 7,
      "outputs": [
        {
          "output_type": "execute_result",
          "data": {
            "text/plain": [
              "<matplotlib.legend.Legend at 0x7f6d4c31b1c0>"
            ]
          },
          "metadata": {},
          "execution_count": 7
        },
        {
          "output_type": "display_data",
          "data": {
            "text/plain": [
              "<Figure size 640x480 with 1 Axes>"
            ],
            "image/png": "[encoded data removed]"
          },
          "metadata": {}
        }
      ]
    },
    {
      "cell_type": "markdown",
      "source": [
        "In contrast with Boston housing, here you can see the problem is much easier on Decision Tree. The training R$^2$ is almost one while the validaiton R$^2$ is 0.975. The training R$^2$ expected to be better (higher) than the validation one as shown in the figure above, however, it should not be much better. If the validation R$^2$ is much **lower** (worse) than the training one, this is called **overfitting**.\n",
        "\n",
        "The validation is similar to the testing; the model does not see the true output as in the training, that is why the validation R$^2$ is expected to be lower, but as mentioned, it should not be much lower, this is again called **overfitting**.\n",
        "\n",
        "In other words, your model is a student that performs well in the exam preperation where he/she has the answers, but does not do well in the exam.\n",
        "\n",
        "In this case, the training R$^2$ after using 7000 samples is $\\frac{0.998-0.975}{0.998}\\%=2.3\\%$ higher than the validation one. This is GREAT! There is an overfitting but it is small, as long as the difference is less than 10\\%, this is very good. As the realtive difference increases, the model starts to overfit the data and this model is not valid and cannot be used even if the training metric is PERFECT."
      ],
      "metadata": {
        "id": "_jQEGpK33Cmn"
      }
    },
    {
      "cell_type": "code",
      "source": [
        "# train\n",
        "dtr.fit(X_train_scaled,y_train_scaled)\n",
        "# predict\n",
        "y_predict = dtr.predict(X_test_scaled)\n",
        "\n",
        "# y_predict is scaled, we need to rescale it back to the original scale\n",
        "y_pred = y_scaler.inverse_transform(y_predict.reshape(-1,1))\n",
        "\n",
        "# Metrics\n",
        "# Mean Absolute Error\n",
        "MAE = mean_absolute_error(y_test,y_predict)\n",
        "# Coefficient of determination\n",
        "R2 = r2_score(y_test, y_pred)\n",
        "\n",
        "print('MAE =', MAE)\n",
        "print('R2 =', R2)\n"
      ],
      "metadata": {
        "colab": {
          "base_uri": "https://localhost:8080/"
        },
        "id": "NMjFAhljwyU_",
        "outputId": "c8c48619-7363-4238-a49d-5c68e0247f19"
      },
      "execution_count": null,
      "outputs": [
        {
          "output_type": "stream",
          "name": "stdout",
          "text": [
            "MAE = 54.8242037037037\n",
            "R2 = 0.9739194797981637\n"
          ]
        }
      ]
    },
    {
      "cell_type": "markdown",
      "source": [
        "You can see that the testing R$^2$ is very close to the validation one because as mentioned, they are similar and the model does not see the true output.\n",
        "\n",
        "The last thing to discuss is the hyperparameters tuning using `GridSearchCV`. Here we will search for the optimal values for two `DecisionTreeRegressor` hyperparameters `min_samples_split` and `min_samples_leaf`."
      ],
      "metadata": {
        "id": "L1E3Lgjt8XF9"
      }
    },
    {
      "cell_type": "code",
      "source": [
        "# We need to define the list of hyperparameters as a dictionary\n",
        "# Make sure to write the hyperparameters correctly\n",
        "# Make sure to assign valid values, you may need to read the documentation of the model you use\n",
        "# The values are given in a list [].\n",
        "\n",
        "grid = {'min_samples_split':[2,3,5,7,10],\n",
        "        'min_samples_leaf':[1,3,5,7,9]}\n",
        "\n",
        "grid_dtr = GridSearchCV(dtr,   # Decision Tree Model\n",
        "                    grid,      # The grid\n",
        "                    scoring='r2',\n",
        "                    n_jobs=3,\n",
        "                    cv=8)\n",
        "# Train the model\n",
        "grid_dtr.fit(X_train_scaled,y_train_scaled)\n",
        "\n",
        "# Print the best values for the two hyperparameters\n",
        "print('The Best Hyperparameters')\n",
        "print(grid_dtr.best_params_)\n",
        "\n",
        "# Predict\n",
        "y_predict = grid_dtr.predict(X_test_scaled)\n",
        "y_pred = y_scaler.inverse_transform(y_predict.reshape(-1,1))\n",
        "\n",
        "# Metrics\n",
        "# Mean Absolute Error\n",
        "MAE = mean_absolute_error(y_test,y_predict)\n",
        "# Coefficient of determination\n",
        "R2 = r2_score(y_test, y_pred)\n",
        "\n",
        "print('MAE =', MAE)\n",
        "print('R2 =', R2)\n"
      ],
      "metadata": {
        "colab": {
          "base_uri": "https://localhost:8080/"
        },
        "id": "D6GuMTPvALAE",
        "outputId": "e057bc7d-2ec6-461d-ac6c-d28219fc83d2"
      },
      "execution_count": 13,
      "outputs": [
        {
          "output_type": "stream",
          "name": "stdout",
          "text": [
            "The Best Hyperparameters\n",
            "{'min_samples_leaf': 9, 'min_samples_split': 7}\n",
            "MAE = 54.79065721949638\n",
            "R2 = 0.9835309266368076\n"
          ]
        }
      ]
    },
    {
      "cell_type": "markdown",
      "source": [
        "You can see here that R$^2$ increased from 0.974 to 0.983 after we searched for optimal values.\n",
        "\n",
        "As an exercise, plot the learning curves and do grid search for random forest regressor. Make a grid for the following hyperparameters: `n_estimators`, `max_depth`, `min_samples_split`, and `min_samples_leaf`"
      ],
      "metadata": {
        "id": "dJLqBFraFEG3"
      }
    }
  ]
}