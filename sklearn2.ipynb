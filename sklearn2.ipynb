{
  "nbformat": 4,
  "nbformat_minor": 0,
  "metadata": {
    "colab": {
      "provenance": [],
      "authorship_tag": "ABX9TyMdxcpBbftoQEVKTviCaaKV",
      "include_colab_link": true
    },
    "kernelspec": {
      "name": "python3",
      "display_name": "Python 3"
    },
    "language_info": {
      "name": "python"
    }
  },
  "cells": [
    {
      "cell_type": "markdown",
      "metadata": {
        "id": "view-in-github",
        "colab_type": "text"
      },
      "source": [
        "<a href=\"https://colab.research.google.com/github/MohdRad/ML_Course/blob/main/sklearn2.ipynb\" target=\"_parent\"><img src=\"https://colab.research.google.com/assets/colab-badge.svg\" alt=\"Open In Colab\"/></a>"
      ]
    },
    {
      "cell_type": "markdown",
      "source": [
        "In this tutorial, we will go more in depth with sklearn, we will see how how to **tune hyperparameters** and **generate learning curves**.\n",
        "\n",
        "Start by importing the related packages."
      ],
      "metadata": {
        "id": "2yFAhrleaiEC"
      }
    },
    {
      "cell_type": "code",
      "execution_count": 2,
      "metadata": {
        "id": "sQs6FiL-aCMS"
      },
      "outputs": [],
      "source": [
        "import pandas as pd\n",
        "import numpy as np\n",
        "from sklearn.preprocessing import MinMaxScaler\n",
        "from sklearn.tree import DecisionTreeRegressor # Decision Tree Regressor\n",
        "from sklearn.ensemble import RandomForestRegressor # Random Forest\n",
        "from sklearn.ensemble import GradientBoostingRegressor # Gradient Boosting\n",
        "from sklearn.svm import SVR # Support Vector Machine\n",
        "from sklearn.metrics import mean_absolute_error, mean_squared_error, r2_score\n",
        "from sklearn.utils import shuffle\n",
        "# New packages (were not imported in the previous tutorial)\n",
        "from sklearn.model_selection import validation_curve, learning_curve\n",
        "from sklearn.model_selection import GridSearchCV\n",
        "# To plot learning curves\n",
        "import matplotlib.pyplot as plt\n"
      ]
    },
    {
      "cell_type": "markdown",
      "source": [
        "In this tutorial we will use different dataset, the dataset is about predicting student perforamce based on different variables like study hours, previous scores, and others."
      ],
      "metadata": {
        "id": "j9Xa_lLhdCuc"
      }
    },
    {
      "cell_type": "code",
      "source": [
        "# Import the data and shuffle it (randomize it)\n",
        "df = shuffle(pd.read_csv('Student_Performance.csv'))\n",
        "# Display the data\n",
        "df"
      ],
      "metadata": {
        "colab": {
          "base_uri": "https://localhost:8080/",
          "height": 424
        },
        "id": "6mYrTKx3ddmL",
        "outputId": "a25a17e0-b378-416d-a4bc-8e3e56486dcb"
      },
      "execution_count": 3,
      "outputs": [
        {
          "output_type": "execute_result",
          "data": {
            "text/plain": [
              "      Hours Studied  Previous Scores Extracurricular Activities  Sleep Hours  \\\n",
              "2918              2               73                        Yes            4   \n",
              "3901              4               80                         No            8   \n",
              "9381              6               50                         No            5   \n",
              "350               5               83                         No            5   \n",
              "3018              9               50                         No            6   \n",
              "...             ...              ...                        ...          ...   \n",
              "750               3               54                         No            5   \n",
              "8392              1               49                        Yes            5   \n",
              "3337              9               66                         No            8   \n",
              "9107              3               56                        Yes            7   \n",
              "7452              4               67                        Yes            6   \n",
              "\n",
              "      Sample Question Papers Practiced  Performance Index  \n",
              "2918                                 5               49.0  \n",
              "3901                                 0               63.0  \n",
              "9381                                 2               35.0  \n",
              "350                                  0               68.0  \n",
              "3018                                 3               44.0  \n",
              "...                                ...                ...  \n",
              "750                                  5               34.0  \n",
              "8392                                 7               24.0  \n",
              "3337                                 5               64.0  \n",
              "9107                                 9               34.0  \n",
              "7452                                 2               51.0  \n",
              "\n",
              "[10000 rows x 6 columns]"
            ],
            "text/html": [
              "\n",
              "  <div id=\"df-2e1c4b5d-ab8c-494a-8ac1-8544efda3068\" class=\"colab-df-container\">\n",
              "    <div>\n",
              "<style scoped>\n",
              "    .dataframe tbody tr th:only-of-type {\n",
              "        vertical-align: middle;\n",
              "    }\n",
              "\n",
              "    .dataframe tbody tr th {\n",
              "        vertical-align: top;\n",
              "    }\n",
              "\n",
              "    .dataframe thead th {\n",
              "        text-align: right;\n",
              "    }\n",
              "</style>\n",
              "<table border=\"1\" class=\"dataframe\">\n",
              "  <thead>\n",
              "    <tr style=\"text-align: right;\">\n",
              "      <th></th>\n",
              "      <th>Hours Studied</th>\n",
              "      <th>Previous Scores</th>\n",
              "      <th>Extracurricular Activities</th>\n",
              "      <th>Sleep Hours</th>\n",
              "      <th>Sample Question Papers Practiced</th>\n",
              "      <th>Performance Index</th>\n",
              "    </tr>\n",
              "  </thead>\n",
              "  <tbody>\n",
              "    <tr>\n",
              "      <th>2918</th>\n",
              "      <td>2</td>\n",
              "      <td>73</td>\n",
              "      <td>Yes</td>\n",
              "      <td>4</td>\n",
              "      <td>5</td>\n",
              "      <td>49.0</td>\n",
              "    </tr>\n",
              "    <tr>\n",
              "      <th>3901</th>\n",
              "      <td>4</td>\n",
              "      <td>80</td>\n",
              "      <td>No</td>\n",
              "      <td>8</td>\n",
              "      <td>0</td>\n",
              "      <td>63.0</td>\n",
              "    </tr>\n",
              "    <tr>\n",
              "      <th>9381</th>\n",
              "      <td>6</td>\n",
              "      <td>50</td>\n",
              "      <td>No</td>\n",
              "      <td>5</td>\n",
              "      <td>2</td>\n",
              "      <td>35.0</td>\n",
              "    </tr>\n",
              "    <tr>\n",
              "      <th>350</th>\n",
              "      <td>5</td>\n",
              "      <td>83</td>\n",
              "      <td>No</td>\n",
              "      <td>5</td>\n",
              "      <td>0</td>\n",
              "      <td>68.0</td>\n",
              "    </tr>\n",
              "    <tr>\n",
              "      <th>3018</th>\n",
              "      <td>9</td>\n",
              "      <td>50</td>\n",
              "      <td>No</td>\n",
              "      <td>6</td>\n",
              "      <td>3</td>\n",
              "      <td>44.0</td>\n",
              "    </tr>\n",
              "    <tr>\n",
              "      <th>...</th>\n",
              "      <td>...</td>\n",
              "      <td>...</td>\n",
              "      <td>...</td>\n",
              "      <td>...</td>\n",
              "      <td>...</td>\n",
              "      <td>...</td>\n",
              "    </tr>\n",
              "    <tr>\n",
              "      <th>750</th>\n",
              "      <td>3</td>\n",
              "      <td>54</td>\n",
              "      <td>No</td>\n",
              "      <td>5</td>\n",
              "      <td>5</td>\n",
              "      <td>34.0</td>\n",
              "    </tr>\n",
              "    <tr>\n",
              "      <th>8392</th>\n",
              "      <td>1</td>\n",
              "      <td>49</td>\n",
              "      <td>Yes</td>\n",
              "      <td>5</td>\n",
              "      <td>7</td>\n",
              "      <td>24.0</td>\n",
              "    </tr>\n",
              "    <tr>\n",
              "      <th>3337</th>\n",
              "      <td>9</td>\n",
              "      <td>66</td>\n",
              "      <td>No</td>\n",
              "      <td>8</td>\n",
              "      <td>5</td>\n",
              "      <td>64.0</td>\n",
              "    </tr>\n",
              "    <tr>\n",
              "      <th>9107</th>\n",
              "      <td>3</td>\n",
              "      <td>56</td>\n",
              "      <td>Yes</td>\n",
              "      <td>7</td>\n",
              "      <td>9</td>\n",
              "      <td>34.0</td>\n",
              "    </tr>\n",
              "    <tr>\n",
              "      <th>7452</th>\n",
              "      <td>4</td>\n",
              "      <td>67</td>\n",
              "      <td>Yes</td>\n",
              "      <td>6</td>\n",
              "      <td>2</td>\n",
              "      <td>51.0</td>\n",
              "    </tr>\n",
              "  </tbody>\n",
              "</table>\n",
              "<p>10000 rows × 6 columns</p>\n",
              "</div>\n",
              "    <div class=\"colab-df-buttons\">\n",
              "\n",
              "  <div class=\"colab-df-container\">\n",
              "    <button class=\"colab-df-convert\" onclick=\"convertToInteractive('df-2e1c4b5d-ab8c-494a-8ac1-8544efda3068')\"\n",
              "            title=\"Convert this dataframe to an interactive table.\"\n",
              "            style=\"display:none;\">\n",
              "\n",
              "  <svg xmlns=\"http://www.w3.org/2000/svg\" height=\"24px\" viewBox=\"0 -960 960 960\">\n",
              "    <path d=\"M120-120v-720h720v720H120Zm60-500h600v-160H180v160Zm220 220h160v-160H400v160Zm0 220h160v-160H400v160ZM180-400h160v-160H180v160Zm440 0h160v-160H620v160ZM180-180h160v-160H180v160Zm440 0h160v-160H620v160Z\"/>\n",
              "  </svg>\n",
              "    </button>\n",
              "\n",
              "  <style>\n",
              "    .colab-df-container {\n",
              "      display:flex;\n",
              "      gap: 12px;\n",
              "    }\n",
              "\n",
              "    .colab-df-convert {\n",
              "      background-color: #E8F0FE;\n",
              "      border: none;\n",
              "      border-radius: 50%;\n",
              "      cursor: pointer;\n",
              "      display: none;\n",
              "      fill: #1967D2;\n",
              "      height: 32px;\n",
              "      padding: 0 0 0 0;\n",
              "      width: 32px;\n",
              "    }\n",
              "\n",
              "    .colab-df-convert:hover {\n",
              "      background-color: #E2EBFA;\n",
              "      box-shadow: 0px 1px 2px rgba(60, 64, 67, 0.3), 0px 1px 3px 1px rgba(60, 64, 67, 0.15);\n",
              "      fill: #174EA6;\n",
              "    }\n",
              "\n",
              "    .colab-df-buttons div {\n",
              "      margin-bottom: 4px;\n",
              "    }\n",
              "\n",
              "    [theme=dark] .colab-df-convert {\n",
              "      background-color: #3B4455;\n",
              "      fill: #D2E3FC;\n",
              "    }\n",
              "\n",
              "    [theme=dark] .colab-df-convert:hover {\n",
              "      background-color: #434B5C;\n",
              "      box-shadow: 0px 1px 3px 1px rgba(0, 0, 0, 0.15);\n",
              "      filter: drop-shadow(0px 1px 2px rgba(0, 0, 0, 0.3));\n",
              "      fill: #FFFFFF;\n",
              "    }\n",
              "  </style>\n",
              "\n",
              "    <script>\n",
              "      const buttonEl =\n",
              "        document.querySelector('#df-2e1c4b5d-ab8c-494a-8ac1-8544efda3068 button.colab-df-convert');\n",
              "      buttonEl.style.display =\n",
              "        google.colab.kernel.accessAllowed ? 'block' : 'none';\n",
              "\n",
              "      async function convertToInteractive(key) {\n",
              "        const element = document.querySelector('#df-2e1c4b5d-ab8c-494a-8ac1-8544efda3068');\n",
              "        const dataTable =\n",
              "          await google.colab.kernel.invokeFunction('convertToInteractive',\n",
              "                                                    [key], {});\n",
              "        if (!dataTable) return;\n",
              "\n",
              "        const docLinkHtml = 'Like what you see? Visit the ' +\n",
              "          '<a target=\"_blank\" href=https://colab.research.google.com/notebooks/data_table.ipynb>data table notebook</a>'\n",
              "          + ' to learn more about interactive tables.';\n",
              "        element.innerHTML = '';\n",
              "        dataTable['output_type'] = 'display_data';\n",
              "        await google.colab.output.renderOutput(dataTable, element);\n",
              "        const docLink = document.createElement('div');\n",
              "        docLink.innerHTML = docLinkHtml;\n",
              "        element.appendChild(docLink);\n",
              "      }\n",
              "    </script>\n",
              "  </div>\n",
              "\n",
              "\n",
              "<div id=\"df-2b14c57b-bc69-4705-882e-de6269fec6ee\">\n",
              "  <button class=\"colab-df-quickchart\" onclick=\"quickchart('df-2b14c57b-bc69-4705-882e-de6269fec6ee')\"\n",
              "            title=\"Suggest charts\"\n",
              "            style=\"display:none;\">\n",
              "\n",
              "<svg xmlns=\"http://www.w3.org/2000/svg\" height=\"24px\"viewBox=\"0 0 24 24\"\n",
              "     width=\"24px\">\n",
              "    <g>\n",
              "        <path d=\"M19 3H5c-1.1 0-2 .9-2 2v14c0 1.1.9 2 2 2h14c1.1 0 2-.9 2-2V5c0-1.1-.9-2-2-2zM9 17H7v-7h2v7zm4 0h-2V7h2v10zm4 0h-2v-4h2v4z\"/>\n",
              "    </g>\n",
              "</svg>\n",
              "  </button>\n",
              "\n",
              "<style>\n",
              "  .colab-df-quickchart {\n",
              "      --bg-color: #E8F0FE;\n",
              "      --fill-color: #1967D2;\n",
              "      --hover-bg-color: #E2EBFA;\n",
              "      --hover-fill-color: #174EA6;\n",
              "      --disabled-fill-color: #AAA;\n",
              "      --disabled-bg-color: #DDD;\n",
              "  }\n",
              "\n",
              "  [theme=dark] .colab-df-quickchart {\n",
              "      --bg-color: #3B4455;\n",
              "      --fill-color: #D2E3FC;\n",
              "      --hover-bg-color: #434B5C;\n",
              "      --hover-fill-color: #FFFFFF;\n",
              "      --disabled-bg-color: #3B4455;\n",
              "      --disabled-fill-color: #666;\n",
              "  }\n",
              "\n",
              "  .colab-df-quickchart {\n",
              "    background-color: var(--bg-color);\n",
              "    border: none;\n",
              "    border-radius: 50%;\n",
              "    cursor: pointer;\n",
              "    display: none;\n",
              "    fill: var(--fill-color);\n",
              "    height: 32px;\n",
              "    padding: 0;\n",
              "    width: 32px;\n",
              "  }\n",
              "\n",
              "  .colab-df-quickchart:hover {\n",
              "    background-color: var(--hover-bg-color);\n",
              "    box-shadow: 0 1px 2px rgba(60, 64, 67, 0.3), 0 1px 3px 1px rgba(60, 64, 67, 0.15);\n",
              "    fill: var(--button-hover-fill-color);\n",
              "  }\n",
              "\n",
              "  .colab-df-quickchart-complete:disabled,\n",
              "  .colab-df-quickchart-complete:disabled:hover {\n",
              "    background-color: var(--disabled-bg-color);\n",
              "    fill: var(--disabled-fill-color);\n",
              "    box-shadow: none;\n",
              "  }\n",
              "\n",
              "  .colab-df-spinner {\n",
              "    border: 2px solid var(--fill-color);\n",
              "    border-color: transparent;\n",
              "    border-bottom-color: var(--fill-color);\n",
              "    animation:\n",
              "      spin 1s steps(1) infinite;\n",
              "  }\n",
              "\n",
              "  @keyframes spin {\n",
              "    0% {\n",
              "      border-color: transparent;\n",
              "      border-bottom-color: var(--fill-color);\n",
              "      border-left-color: var(--fill-color);\n",
              "    }\n",
              "    20% {\n",
              "      border-color: transparent;\n",
              "      border-left-color: var(--fill-color);\n",
              "      border-top-color: var(--fill-color);\n",
              "    }\n",
              "    30% {\n",
              "      border-color: transparent;\n",
              "      border-left-color: var(--fill-color);\n",
              "      border-top-color: var(--fill-color);\n",
              "      border-right-color: var(--fill-color);\n",
              "    }\n",
              "    40% {\n",
              "      border-color: transparent;\n",
              "      border-right-color: var(--fill-color);\n",
              "      border-top-color: var(--fill-color);\n",
              "    }\n",
              "    60% {\n",
              "      border-color: transparent;\n",
              "      border-right-color: var(--fill-color);\n",
              "    }\n",
              "    80% {\n",
              "      border-color: transparent;\n",
              "      border-right-color: var(--fill-color);\n",
              "      border-bottom-color: var(--fill-color);\n",
              "    }\n",
              "    90% {\n",
              "      border-color: transparent;\n",
              "      border-bottom-color: var(--fill-color);\n",
              "    }\n",
              "  }\n",
              "</style>\n",
              "\n",
              "  <script>\n",
              "    async function quickchart(key) {\n",
              "      const quickchartButtonEl =\n",
              "        document.querySelector('#' + key + ' button');\n",
              "      quickchartButtonEl.disabled = true;  // To prevent multiple clicks.\n",
              "      quickchartButtonEl.classList.add('colab-df-spinner');\n",
              "      try {\n",
              "        const charts = await google.colab.kernel.invokeFunction(\n",
              "            'suggestCharts', [key], {});\n",
              "      } catch (error) {\n",
              "        console.error('Error during call to suggestCharts:', error);\n",
              "      }\n",
              "      quickchartButtonEl.classList.remove('colab-df-spinner');\n",
              "      quickchartButtonEl.classList.add('colab-df-quickchart-complete');\n",
              "    }\n",
              "    (() => {\n",
              "      let quickchartButtonEl =\n",
              "        document.querySelector('#df-2b14c57b-bc69-4705-882e-de6269fec6ee button');\n",
              "      quickchartButtonEl.style.display =\n",
              "        google.colab.kernel.accessAllowed ? 'block' : 'none';\n",
              "    })();\n",
              "  </script>\n",
              "</div>\n",
              "\n",
              "  <div id=\"id_4eba0b0e-63d1-409c-b5f2-d627f558aa15\">\n",
              "    <style>\n",
              "      .colab-df-generate {\n",
              "        background-color: #E8F0FE;\n",
              "        border: none;\n",
              "        border-radius: 50%;\n",
              "        cursor: pointer;\n",
              "        display: none;\n",
              "        fill: #1967D2;\n",
              "        height: 32px;\n",
              "        padding: 0 0 0 0;\n",
              "        width: 32px;\n",
              "      }\n",
              "\n",
              "      .colab-df-generate:hover {\n",
              "        background-color: #E2EBFA;\n",
              "        box-shadow: 0px 1px 2px rgba(60, 64, 67, 0.3), 0px 1px 3px 1px rgba(60, 64, 67, 0.15);\n",
              "        fill: #174EA6;\n",
              "      }\n",
              "\n",
              "      [theme=dark] .colab-df-generate {\n",
              "        background-color: #3B4455;\n",
              "        fill: #D2E3FC;\n",
              "      }\n",
              "\n",
              "      [theme=dark] .colab-df-generate:hover {\n",
              "        background-color: #434B5C;\n",
              "        box-shadow: 0px 1px 3px 1px rgba(0, 0, 0, 0.15);\n",
              "        filter: drop-shadow(0px 1px 2px rgba(0, 0, 0, 0.3));\n",
              "        fill: #FFFFFF;\n",
              "      }\n",
              "    </style>\n",
              "    <button class=\"colab-df-generate\" onclick=\"generateWithVariable('df')\"\n",
              "            title=\"Generate code using this dataframe.\"\n",
              "            style=\"display:none;\">\n",
              "\n",
              "  <svg xmlns=\"http://www.w3.org/2000/svg\" height=\"24px\"viewBox=\"0 0 24 24\"\n",
              "       width=\"24px\">\n",
              "    <path d=\"M7,19H8.4L18.45,9,17,7.55,7,17.6ZM5,21V16.75L18.45,3.32a2,2,0,0,1,2.83,0l1.4,1.43a1.91,1.91,0,0,1,.58,1.4,1.91,1.91,0,0,1-.58,1.4L9.25,21ZM18.45,9,17,7.55Zm-12,3A5.31,5.31,0,0,0,4.9,8.1,5.31,5.31,0,0,0,1,6.5,5.31,5.31,0,0,0,4.9,4.9,5.31,5.31,0,0,0,6.5,1,5.31,5.31,0,0,0,8.1,4.9,5.31,5.31,0,0,0,12,6.5,5.46,5.46,0,0,0,6.5,12Z\"/>\n",
              "  </svg>\n",
              "    </button>\n",
              "    <script>\n",
              "      (() => {\n",
              "      const buttonEl =\n",
              "        document.querySelector('#id_4eba0b0e-63d1-409c-b5f2-d627f558aa15 button.colab-df-generate');\n",
              "      buttonEl.style.display =\n",
              "        google.colab.kernel.accessAllowed ? 'block' : 'none';\n",
              "\n",
              "      buttonEl.onclick = () => {\n",
              "        google.colab.notebook.generateWithVariable('df');\n",
              "      }\n",
              "      })();\n",
              "    </script>\n",
              "  </div>\n",
              "\n",
              "    </div>\n",
              "  </div>\n"
            ],
            "application/vnd.google.colaboratory.intrinsic+json": {
              "type": "dataframe",
              "variable_name": "df",
              "summary": "{\n  \"name\": \"df\",\n  \"rows\": 10000,\n  \"fields\": [\n    {\n      \"column\": \"Hours Studied\",\n      \"properties\": {\n        \"dtype\": \"number\",\n        \"std\": 2,\n        \"min\": 1,\n        \"max\": 9,\n        \"num_unique_values\": 9,\n        \"samples\": [\n          7,\n          4,\n          3\n        ],\n        \"semantic_type\": \"\",\n        \"description\": \"\"\n      }\n    },\n    {\n      \"column\": \"Previous Scores\",\n      \"properties\": {\n        \"dtype\": \"number\",\n        \"std\": 17,\n        \"min\": 40,\n        \"max\": 99,\n        \"num_unique_values\": 60,\n        \"samples\": [\n          73,\n          49,\n          94\n        ],\n        \"semantic_type\": \"\",\n        \"description\": \"\"\n      }\n    },\n    {\n      \"column\": \"Extracurricular Activities\",\n      \"properties\": {\n        \"dtype\": \"category\",\n        \"num_unique_values\": 2,\n        \"samples\": [\n          \"No\",\n          \"Yes\"\n        ],\n        \"semantic_type\": \"\",\n        \"description\": \"\"\n      }\n    },\n    {\n      \"column\": \"Sleep Hours\",\n      \"properties\": {\n        \"dtype\": \"number\",\n        \"std\": 1,\n        \"min\": 4,\n        \"max\": 9,\n        \"num_unique_values\": 6,\n        \"samples\": [\n          4,\n          8\n        ],\n        \"semantic_type\": \"\",\n        \"description\": \"\"\n      }\n    },\n    {\n      \"column\": \"Sample Question Papers Practiced\",\n      \"properties\": {\n        \"dtype\": \"number\",\n        \"std\": 2,\n        \"min\": 0,\n        \"max\": 9,\n        \"num_unique_values\": 10,\n        \"samples\": [\n          6,\n          0\n        ],\n        \"semantic_type\": \"\",\n        \"description\": \"\"\n      }\n    },\n    {\n      \"column\": \"Performance Index\",\n      \"properties\": {\n        \"dtype\": \"number\",\n        \"std\": 19.212557799463344,\n        \"min\": 10.0,\n        \"max\": 100.0,\n        \"num_unique_values\": 91,\n        \"samples\": [\n          50.0,\n          43.0\n        ],\n        \"semantic_type\": \"\",\n        \"description\": \"\"\n      }\n    }\n  ]\n}"
            }
          },
          "metadata": {},
          "execution_count": 3
        }
      ]
    },
    {
      "cell_type": "markdown",
      "source": [
        "The output is `Performance Index`, a `float` between `0.0` and `100.0`. The inputs are 4 features shown in df above."
      ],
      "metadata": {
        "id": "oqy6tHlzeGqn"
      }
    },
    {
      "cell_type": "code",
      "source": [
        "# Define the inputs, drop the output and non numeric column 'Extracurricular Activities'\n",
        "X = np.array(df.drop(['Performance Index','Extracurricular Activities'], axis=1))\n",
        "\n",
        "# Define the output\n",
        "y = np.array(df['Performance Index'])\n",
        "\n",
        "# Since we have only one output,\n",
        "# we need to make it 2D array to avoid problems later in the scaling\n",
        "y = y.reshape(-1,1)"
      ],
      "metadata": {
        "id": "T9_QSLm_eCoz"
      },
      "execution_count": 4,
      "outputs": []
    },
    {
      "cell_type": "markdown",
      "source": [
        "Now we split the data into training (80\\%) and testing (20\\%)."
      ],
      "metadata": {
        "id": "FdRia3czf6rP"
      }
    },
    {
      "cell_type": "code",
      "source": [
        "L = int(0.8*len(X))\n",
        "X_train = X[:L]\n",
        "y_train = y[:L]\n",
        "X_test = X[L:]\n",
        "y_test = y[L:]"
      ],
      "metadata": {
        "id": "CZPNlRVOf_MA"
      },
      "execution_count": 5,
      "outputs": []
    },
    {
      "cell_type": "markdown",
      "source": [
        "Now we need to scale the data."
      ],
      "metadata": {
        "id": "9DmCfIFkghnn"
      }
    },
    {
      "cell_type": "code",
      "source": [
        "# X scaler\n",
        "X_scaler = MinMaxScaler()\n",
        "# Let the scaler defines the maximum and the minimum\n",
        "X_scaler.fit(X_train)\n",
        "# Apply scaling to train X data\n",
        "X_train_scaled = X_scaler.transform(X_train)\n",
        "# test data\n",
        "X_scaler.fit(X_test)\n",
        "X_test_scaled = X_scaler.transform(X_test)\n",
        "\n",
        "# y scaler\n",
        "y_scaler = MinMaxScaler()\n",
        "y_scaler.fit(y_train)\n",
        "y_train_scaled = y_scaler.transform(y_train)\n",
        "y_scaler.fit(y_test)"
      ],
      "metadata": {
        "colab": {
          "base_uri": "https://localhost:8080/",
          "height": 75
        },
        "id": "LXLPcbPegktf",
        "outputId": "5287d4ec-2e46-46b1-dd6d-336f75fa54d2"
      },
      "execution_count": 6,
      "outputs": [
        {
          "output_type": "execute_result",
          "data": {
            "text/plain": [
              "MinMaxScaler()"
            ],
            "text/html": [
              "<style>#sk-container-id-1 {color: black;background-color: white;}#sk-container-id-1 pre{padding: 0;}#sk-container-id-1 div.sk-toggleable {background-color: white;}#sk-container-id-1 label.sk-toggleable__label {cursor: pointer;display: block;width: 100%;margin-bottom: 0;padding: 0.3em;box-sizing: border-box;text-align: center;}#sk-container-id-1 label.sk-toggleable__label-arrow:before {content: \"▸\";float: left;margin-right: 0.25em;color: #696969;}#sk-container-id-1 label.sk-toggleable__label-arrow:hover:before {color: black;}#sk-container-id-1 div.sk-estimator:hover label.sk-toggleable__label-arrow:before {color: black;}#sk-container-id-1 div.sk-toggleable__content {max-height: 0;max-width: 0;overflow: hidden;text-align: left;background-color: #f0f8ff;}#sk-container-id-1 div.sk-toggleable__content pre {margin: 0.2em;color: black;border-radius: 0.25em;background-color: #f0f8ff;}#sk-container-id-1 input.sk-toggleable__control:checked~div.sk-toggleable__content {max-height: 200px;max-width: 100%;overflow: auto;}#sk-container-id-1 input.sk-toggleable__control:checked~label.sk-toggleable__label-arrow:before {content: \"▾\";}#sk-container-id-1 div.sk-estimator input.sk-toggleable__control:checked~label.sk-toggleable__label {background-color: #d4ebff;}#sk-container-id-1 div.sk-label input.sk-toggleable__control:checked~label.sk-toggleable__label {background-color: #d4ebff;}#sk-container-id-1 input.sk-hidden--visually {border: 0;clip: rect(1px 1px 1px 1px);clip: rect(1px, 1px, 1px, 1px);height: 1px;margin: -1px;overflow: hidden;padding: 0;position: absolute;width: 1px;}#sk-container-id-1 div.sk-estimator {font-family: monospace;background-color: #f0f8ff;border: 1px dotted black;border-radius: 0.25em;box-sizing: border-box;margin-bottom: 0.5em;}#sk-container-id-1 div.sk-estimator:hover {background-color: #d4ebff;}#sk-container-id-1 div.sk-parallel-item::after {content: \"\";width: 100%;border-bottom: 1px solid gray;flex-grow: 1;}#sk-container-id-1 div.sk-label:hover label.sk-toggleable__label {background-color: #d4ebff;}#sk-container-id-1 div.sk-serial::before {content: \"\";position: absolute;border-left: 1px solid gray;box-sizing: border-box;top: 0;bottom: 0;left: 50%;z-index: 0;}#sk-container-id-1 div.sk-serial {display: flex;flex-direction: column;align-items: center;background-color: white;padding-right: 0.2em;padding-left: 0.2em;position: relative;}#sk-container-id-1 div.sk-item {position: relative;z-index: 1;}#sk-container-id-1 div.sk-parallel {display: flex;align-items: stretch;justify-content: center;background-color: white;position: relative;}#sk-container-id-1 div.sk-item::before, #sk-container-id-1 div.sk-parallel-item::before {content: \"\";position: absolute;border-left: 1px solid gray;box-sizing: border-box;top: 0;bottom: 0;left: 50%;z-index: -1;}#sk-container-id-1 div.sk-parallel-item {display: flex;flex-direction: column;z-index: 1;position: relative;background-color: white;}#sk-container-id-1 div.sk-parallel-item:first-child::after {align-self: flex-end;width: 50%;}#sk-container-id-1 div.sk-parallel-item:last-child::after {align-self: flex-start;width: 50%;}#sk-container-id-1 div.sk-parallel-item:only-child::after {width: 0;}#sk-container-id-1 div.sk-dashed-wrapped {border: 1px dashed gray;margin: 0 0.4em 0.5em 0.4em;box-sizing: border-box;padding-bottom: 0.4em;background-color: white;}#sk-container-id-1 div.sk-label label {font-family: monospace;font-weight: bold;display: inline-block;line-height: 1.2em;}#sk-container-id-1 div.sk-label-container {text-align: center;}#sk-container-id-1 div.sk-container {/* jupyter's `normalize.less` sets `[hidden] { display: none; }` but bootstrap.min.css set `[hidden] { display: none !important; }` so we also need the `!important` here to be able to override the default hidden behavior on the sphinx rendered scikit-learn.org. See: https://github.com/scikit-learn/scikit-learn/issues/21755 */display: inline-block !important;position: relative;}#sk-container-id-1 div.sk-text-repr-fallback {display: none;}</style><div id=\"sk-container-id-1\" class=\"sk-top-container\"><div class=\"sk-text-repr-fallback\"><pre>MinMaxScaler()</pre><b>In a Jupyter environment, please rerun this cell to show the HTML representation or trust the notebook. <br />On GitHub, the HTML representation is unable to render, please try loading this page with nbviewer.org.</b></div><div class=\"sk-container\" hidden><div class=\"sk-item\"><div class=\"sk-estimator sk-toggleable\"><input class=\"sk-toggleable__control sk-hidden--visually\" id=\"sk-estimator-id-1\" type=\"checkbox\" checked><label for=\"sk-estimator-id-1\" class=\"sk-toggleable__label sk-toggleable__label-arrow\">MinMaxScaler</label><div class=\"sk-toggleable__content\"><pre>MinMaxScaler()</pre></div></div></div></div></div>"
            ]
          },
          "metadata": {},
          "execution_count": 6
        }
      ]
    },
    {
      "cell_type": "markdown",
      "source": [
        "Let's start with `DecsionTree Regressor`, we generate the learning curves that shows when training should be stopped. This is important because in some cases, using more data causes overfitting; the model performance starts to decrease as you use more data.  \n",
        "\n",
        "The y-axis of the learning curves is one of the metrics like Mean Absolute Error or Coefficient of detrmination. However, the x-axis is defined based on how the algorithm is trained. For Decision Tree, the x-axis is the size of the data used. For examples, we have 7000 training samples, these can be divided into 20 batches of 350 observations, the training score is recoreded at each of the 350 samples.\n",
        "\n",
        "Another important aspect in `learning_curves` is the cross validation (`cv`). The common cross validation approach is **k-fold** cross validation. The training is divided in equal `k folds` where `k` is defined by the user. In our examples, our training data can be devided into **8** folds, each fold has 1000 samples. For **8 loops**, the model uses 7 folds (7000 data points) for training and and 1 fold (1000 points) for validation. Consequently, we will have 8 training and 8 testing metrics, the common approach is to average these metrics.     "
      ],
      "metadata": {
        "id": "-e1z2bP-j5Tq"
      }
    },
    {
      "cell_type": "code",
      "source": [
        "# Define the regressor\n",
        "dtr = DecisionTreeRegressor()\n",
        "# learning curves must be assigned to three variables\n",
        "# (1) size of samples for n-th batches, (2) train_scores, (3) val_scores\n",
        "# We must follow this order to avoid the confusion between train and validation\n",
        "train_sizes, train_scores, val_scores = learning_curve(dtr,                     # the ML model\n",
        "                                                        X_train_scaled,          # Training input\n",
        "                                                        y_train_scaled,          # Training output\n",
        "                                                        cv=8,                    # Cross validation\n",
        "                                                        n_jobs=3,                # number of jobs to be done in parallel, this is useful to reduce the computing time\n",
        "                                                        train_sizes=np.linspace(0.05, 1.0, 20), # The fraction of data to be used in each of the 20 batches.\n",
        "                                                        scoring='r2')  # The metric to be used on the y-axis, I used R^2, other options can be checked by  # import sklearn\n",
        "                                                                                                                                                           # sklearn.metrics.get_scorer_names()\n",
        "# For each of 20 batches, we will get 8 metrics, see test_scores\n",
        "# We want to compute their average, np.mean is used for this purpose\n",
        "train_scores_mean = np.mean(train_scores, axis=1)\n",
        "val_scores_mean = np.mean(val_scores, axis=1)\n",
        "\n",
        "# Learning curves plot\n",
        "fig, ax = plt.subplots()\n",
        "plt.plot(train_sizes, train_scores_mean, label='Training')\n",
        "plt.plot(train_sizes, val_scores_mean, label='Validation')\n",
        "ax.set_ylabel('R$^2$')\n",
        "ax.set_xlabel('Training Data Size')\n",
        "plt.legend()\n"
      ],
      "metadata": {
        "colab": {
          "base_uri": "https://localhost:8080/",
          "height": 466
        },
        "id": "MbdTbNWRkfpz",
        "outputId": "6428d3bb-f5a2-4276-97b3-329eabfaa306"
      },
      "execution_count": 7,
      "outputs": [
        {
          "output_type": "execute_result",
          "data": {
            "text/plain": [
              "<matplotlib.legend.Legend at 0x7f6d4c31b1c0>"
            ]
          },
          "metadata": {},
          "execution_count": 7
        },
        {
          "output_type": "display_data",
          "data": {
            "text/plain": [
              "<Figure size 640x480 with 1 Axes>"
            ],
            "image/png": "[encoded data removed]"
          },
          "metadata": {}
        }
      ]
    },
    {
      "cell_type": "markdown",
      "source": [
        "In contrast with Boston housing, here you can see the problem is much easier on Decision Tree. The training R$^2$ is almost one while the validaiton R$^2$ is 0.975. The training R$^2$ expected to be better (higher) than the validation one as shown in the figure above, however, it should not be much better. If the validation R$^2$ is much **lower** (worse) than the training one, this is called **overfitting**.\n",
        "\n",
        "The validation is similar to the testing; the model does not see the true output as in the training, that is why the validation R$^2$ is expected to be lower, but as mentioned, it should not be much lower, this is **overfitting**.\n",
        "\n",
        "In other words, your model is a student that performs well in the exam preperation where he/she has the answers, but does not do well in the exam.\n",
        "\n",
        "In this case, the training R$^2$ after using 7000 is $\\frac{0.998-0.975}{0.998}\\%=2.3\\%$ higher than the validation one. This is GREAT! There is an overfitting but it is small, as long as the difference is less than 10\\%. As the realtive difference increases, the model starts to overfit the data and this model is not valid and cannot be used even if the training metric is PERFECT."
      ],
      "metadata": {
        "id": "_jQEGpK33Cmn"
      }
    },
    {
      "cell_type": "code",
      "source": [
        "# train\n",
        "dtr.fit(X_train_scaled,y_train_scaled)\n",
        "# predict\n",
        "y_predict = dtr.predict(X_test_scaled)\n",
        "\n",
        "# y_predict is scaled, we need to rescale it back to the original scale\n",
        "y_pred = y_scaler.inverse_transform(y_predict.reshape(-1,1))\n",
        "\n",
        "# Metrics\n",
        "# Mean Absolute Error\n",
        "MAE = mean_absolute_error(y_test,y_predict)\n",
        "# Coefficient of determination\n",
        "R2 = r2_score(y_test, y_pred)\n",
        "\n",
        "print('MAE =', MAE)\n",
        "print('R2 =', R2)\n"
      ],
      "metadata": {
        "colab": {
          "base_uri": "https://localhost:8080/"
        },
        "id": "NMjFAhljwyU_",
        "outputId": "c8c48619-7363-4238-a49d-5c68e0247f19"
      },
      "execution_count": null,
      "outputs": [
        {
          "output_type": "stream",
          "name": "stdout",
          "text": [
            "MAE = 54.8242037037037\n",
            "R2 = 0.9739194797981637\n"
          ]
        }
      ]
    },
    {
      "cell_type": "markdown",
      "source": [
        "You can see that the testing R$^2$ is very close to the validation one because as mentioned, they are similar and the model does not see the true output.\n",
        "\n",
        "The last thing to discuss is the hyperparameters tuning using `GridSearchCV`. Here we will search for the optimal values for two Decision hyperparameters `min_samples_split` and `min_samples_leaf`."
      ],
      "metadata": {
        "id": "L1E3Lgjt8XF9"
      }
    },
    {
      "cell_type": "code",
      "source": [
        "# We need to define the list of hyperparameters as a dictionary\n",
        "# Make sure to write the hyperparameters correctly\n",
        "# Make sure to assign valid values, you may need to read the documentation of the model you use\n",
        "# The values are given in a list [].\n",
        "\n",
        "grid = {'min_samples_split':[2,3,5,7,10],\n",
        "        'min_samples_leaf':[1,3,5,7,9]}\n",
        "\n",
        "grid_dtr = GridSearchCV(dtr,   # Decision Tree Model\n",
        "                    grid,      # The grid\n",
        "                    scoring='r2',\n",
        "                    n_jobs=3,\n",
        "                    cv=8)\n",
        "# Train the model\n",
        "grid_dtr.fit(X_train_scaled,y_train_scaled)\n",
        "\n",
        "# Print the best values for the two hyperparameters\n",
        "print('The Best Hyperparameters')\n",
        "print(grid_dtr.best_params_)\n",
        "\n",
        "# Predict\n",
        "y_predict = grid_dtr.predict(X_test_scaled)\n",
        "y_pred = y_scaler.inverse_transform(y_predict.reshape(-1,1))\n",
        "\n",
        "# Metrics\n",
        "# Mean Absolute Error\n",
        "MAE = mean_absolute_error(y_test,y_predict)\n",
        "# Coefficient of determination\n",
        "R2 = r2_score(y_test, y_pred)\n",
        "\n",
        "print('MAE =', MAE)\n",
        "print('R2 =', R2)\n"
      ],
      "metadata": {
        "colab": {
          "base_uri": "https://localhost:8080/"
        },
        "id": "D6GuMTPvALAE",
        "outputId": "e057bc7d-2ec6-461d-ac6c-d28219fc83d2"
      },
      "execution_count": 13,
      "outputs": [
        {
          "output_type": "stream",
          "name": "stdout",
          "text": [
            "The Best Hyperparameters\n",
            "{'min_samples_leaf': 9, 'min_samples_split': 7}\n",
            "MAE = 54.79065721949638\n",
            "R2 = 0.9835309266368076\n"
          ]
        }
      ]
    },
    {
      "cell_type": "markdown",
      "source": [
        "You can see here that R$^2$ increased from 0.974 to 0.983 after we searched for optimal values.\n",
        "\n",
        "As an exercise, plot the learning curves and do grid search for random forest regressor. Make a grid for the following hyperparameters: `n_estimators`, `max_depth`, `min_samples_split`, and `min_samples_leaf`"
      ],
      "metadata": {
        "id": "dJLqBFraFEG3"
      }
    }
  ]
}