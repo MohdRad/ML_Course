{
  "nbformat": 4,
  "nbformat_minor": 0,
  "metadata": {
    "colab": {
      "provenance": []
    },
    "kernelspec": {
      "name": "python3",
      "display_name": "Python 3"
    },
    "language_info": {
      "name": "python"
    }
  },
  "cells": [
    {
      "cell_type": "markdown",
      "source": [
        "**Active Learning**\n",
        "\n",
        "In standard regression machine learning practice, we train an ML model to replace expensive experiments and simulations with a predictive model that gives the same output. However, the ML model must be trained using data generated from the relevant experiments or simulations.\n",
        "\n",
        "In your problem, a number of experiments should be conducted to obtain the heat flux using the five inputs you showed me. In the standard approach, you will conduct a number of **random experiments** say 200, then you will use this data to train and test your ML model; you will make more experiments and generate more data if your ML model performance is unsatisfactory.\n",
        "\n",
        "Training your model by random samples is insufficient, especially if your problem is highly nonlinear and many training samples are required. As a result, many expensive and time consuming experiments are required. You may generate 1000 samples by experiments but more than half of them are not useful to your ML model.\n",
        "\n",
        "Consider that you have 5 inputs, you have thousands of combinations like the ones you showed me; you have 20k different combinations, and possibly more that can be used. The question, **which samples among these are the most useful for training?** When the experiment to obtain the heat flux is expensive and time consuming, you want to obtain well trained ML model using as **minimum samples** as possible. This is done by Active Learning.\n",
        "\n",
        "Up to now, I am assuming that you do not know the heat flux values, and there are thousands of the five input combinations that you can use to obtain the heat flux via experiments. This is just to show the value of active learning. Having the heat flux values does not change much, but frankly make your argument weaker since you already have done the 20k experiments.\n",
        "\n",
        "As I mentioned, there are thousands of possible combinations for your five inputs. In active learning, you need a **query strategy** to select samples that are the most useful for your ML training. The most common strategy is selecting the samples with the **most uncertainty**. As a result, you need a probabilstic model that provides a measure of uncertainty. The simplest model is the Gaussian Process Regressor (GPR). The figure below shows the active learning loop, where $\\hat{\\mu}$ and $\\hat{\\sigma}$ are the mean and standard deviation, respectively. You can simply replace GPR with your probabilistic model. You divide your data into sampling and testing pools. You iteratively select samples from the sampling pool with the **highest** $\\hat{\\sigma}$, drop them from the sampling pool, and evaluate your model using the testing pool.  \n",
        "\n",
        "The performance using active learning should be compared with picking random samples from the sampling pool, and active learning must be better. That means, **better metrics MUST be obtained using fewer number of iterations using active learning when compared with the random sampling**.\n",
        "\n",
        "\n",
        "![image.png](data:image/png;base64,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)\n",
        "\n"
      ],
      "metadata": {
        "id": "Q2-mVtebplpW"
      }
    },
    {
      "cell_type": "markdown",
      "source": [
        "I will show you an example using dataset about ignition delay time of hydrogen. Four inputs are used to predict ignition delay time (tign). The data is linear and easy to learn.   "
      ],
      "metadata": {
        "id": "KrGHDmBf4twm"
      }
    },
    {
      "cell_type": "code",
      "source": [
        "# You can skip this if you do not use google colab. Put the csv file and modAL folder in your google drive\n",
        "import os\n",
        "os.chdir(\"drive/MyDrive/\")"
      ],
      "metadata": {
        "id": "N5KtaKZzrm1q"
      },
      "execution_count": 1,
      "outputs": []
    },
    {
      "cell_type": "code",
      "source": [
        "import pandas as pd\n",
        "import numpy as np\n",
        "import matplotlib.pyplot as plt\n",
        "import warnings\n",
        "warnings.filterwarnings(\"ignore\")"
      ],
      "metadata": {
        "id": "RzYSzNhJN_k-"
      },
      "execution_count": 2,
      "outputs": []
    },
    {
      "cell_type": "code",
      "execution_count": 3,
      "metadata": {
        "id": "BLVWm8QTpjQJ"
      },
      "outputs": [],
      "source": [
        "np.random.seed(42)\n",
        "df = pd.read_csv('dataH2.csv')\n",
        "df.head()\n",
        "X = df.drop('tign', axis=1)\n",
        "y = df['tign']"
      ]
    },
    {
      "cell_type": "markdown",
      "source": [
        "**modAL** is an active learning package that uses GPR. There are problems with installing it using `pip`. The best way to download the package and use it locally."
      ],
      "metadata": {
        "id": "Vq5RxSYhBWT5"
      }
    },
    {
      "cell_type": "code",
      "source": [
        "# ModAL active learning model\n",
        "from modAL.models.learners import ActiveLearner\n",
        "# GPR\n",
        "from sklearn.gaussian_process import GaussianProcessRegressor\n",
        "# GPR requires identifying the kernel\n",
        "from sklearn.gaussian_process.kernels import DotProduct, RBF,  Matern, RationalQuadratic, ExpSineSquared\n",
        "# R2 and RMSE\n",
        "from sklearn.metrics import r2_score, mean_squared_error\n",
        "# Scaling is crucial for GPR\n",
        "from sklearn.preprocessing import MinMaxScaler\n",
        "# Sampling/testing split\n",
        "from sklearn.model_selection import train_test_split"
      ],
      "metadata": {
        "id": "q17vxHPRBqwp"
      },
      "execution_count": 4,
      "outputs": []
    },
    {
      "cell_type": "markdown",
      "source": [
        "We need to define a query strategy to select the sample with the highest standard deviation."
      ],
      "metadata": {
        "id": "_ADrIhyZFsVe"
      }
    },
    {
      "cell_type": "code",
      "source": [
        "# Select the prediction y_gp that has the largest standard deviation\n",
        "# This function returns the index of the\n",
        "def GP_regression_std(regressor, X):\n",
        "    _, std = regressor.predict(X, return_std=True)\n",
        "    query_idx = np.argmax(std)\n",
        "    return query_idx, X[query_idx]"
      ],
      "metadata": {
        "id": "R7KV-byXF1UV"
      },
      "execution_count": 5,
      "outputs": []
    },
    {
      "cell_type": "markdown",
      "source": [
        "Scaling is crucial for GPR to get reasonable resutls"
      ],
      "metadata": {
        "id": "NEQkdQeLP0KA"
      }
    },
    {
      "cell_type": "code",
      "source": [
        "# Split the data into sampling/testing\n",
        "X_sample, X_test, y_sample, y_test = train_test_split(X, y,\n",
        "                                                      test_size = 0.2,\n",
        "                                                      random_state = 42)\n",
        "\n",
        "# Reshape y from vevtor to matrix for scaling\n",
        "y_sample = np.array(y_sample).reshape(-1,1)\n",
        "y_test = np.array(y_test).reshape(-1,1)\n",
        "# Scaling\n",
        "# X\n",
        "y = np.array(y).reshape(-1,1)\n",
        "scaler_x = MinMaxScaler()\n",
        "scaler_x.fit(X)\n",
        "X_sample_scale = scaler_x.transform(X_sample)\n",
        "X_test_scale = scaler_x.transform(X_test)\n",
        "# y\n",
        "scaler_y = MinMaxScaler()\n",
        "scaler_y.fit(y)\n",
        "y_sample_scale = scaler_y.transform(y_sample)"
      ],
      "metadata": {
        "id": "GE0DntSuP6sC"
      },
      "execution_count": 6,
      "outputs": []
    },
    {
      "cell_type": "markdown",
      "source": [
        "Now we need to define the GPR and its kernel"
      ],
      "metadata": {
        "id": "_C8LBjMaQBdr"
      }
    },
    {
      "cell_type": "code",
      "source": [
        "# Defining kernel for Gaussian Process Regressor\n",
        "kernel = DotProduct() # The best kernel when your data is linear\n",
        "# Defining GPR\n",
        "gpr = GaussianProcessRegressor(kernel=kernel,\n",
        "                        random_state=42,\n",
        "                        n_restarts_optimizer=0,\n",
        "                        alpha=1)"
      ],
      "metadata": {
        "id": "MJFEqFlWQGQx"
      },
      "execution_count": 7,
      "outputs": []
    },
    {
      "cell_type": "markdown",
      "source": [
        "You can initialize the GPR with random samples. Note that this step is optional. Also, these random samples are removed from the sampling pool."
      ],
      "metadata": {
        "id": "C5rXdPsQRApt"
      }
    },
    {
      "cell_type": "code",
      "source": [
        "# Start with 1 random samples\n",
        "# Generate 1 random indices\n",
        "idx_in=np.random.choice(len(X_sample_scale), size=1, replace=False)\n",
        "# Identify the random samples\n",
        "X_ini = X_sample_scale[idx_in]\n",
        "y_ini = y_sample_scale[idx_in]\n",
        "# Delete these samples from the sampling pool\n",
        "X_sample = np.delete(X_sample_scale, idx_in, axis=0)\n",
        "y_sample = np.delete(y_sample_scale, idx_in, axis=0)\n",
        "\n",
        "# We take copies from the original sampling variables for Random sampling\n",
        "# The sampling pool will get smaller with iterations\n",
        "X_sample_in = X_sample.copy()\n",
        "y_sample_in = y_sample.copy()\n",
        "\n",
        "\n"
      ],
      "metadata": {
        "id": "NLhtCCOsQq8E"
      },
      "execution_count": 8,
      "outputs": []
    },
    {
      "cell_type": "markdown",
      "source": [
        "Define the active learner"
      ],
      "metadata": {
        "id": "ZAceAbcI_U2f"
      }
    },
    {
      "cell_type": "code",
      "source": [
        "# Use GPR as an Active Learner, Max Std as a query strategy\n",
        "regressor = ActiveLearner(estimator=gpr,\n",
        "                             query_strategy=GP_regression_std, # We define this function (GP_regression_std) earlier\n",
        "                             X_training=X_ini,\n",
        "                             y_training=y_ini)"
      ],
      "metadata": {
        "id": "HT1ecY2__TOA"
      },
      "execution_count": 9,
      "outputs": []
    },
    {
      "cell_type": "markdown",
      "source": [
        "Now we need to create the active learning loop using a `for` statement"
      ],
      "metadata": {
        "id": "1MPoZamYSsbu"
      }
    },
    {
      "cell_type": "code",
      "source": [
        "# Define the number of queries/samples/iterations\n",
        "n_samples = 200\n",
        "metrics = []\n",
        "for i in range (n_samples+1):\n",
        "        # Identify the sample with the maximum uncertainty\n",
        "        query_idx, query_instance = regressor.query(X_sample)\n",
        "        # Fit the model using this sample\n",
        "        regressor.teach(X_sample[query_idx].reshape(1,-1),\n",
        "                        y_sample[query_idx].reshape(-1,1))\n",
        "        # Delete the query from the samples space to avoid reselection\n",
        "        X_sample = np.delete(X_sample, query_idx, axis=0)\n",
        "        y_sample = np.delete(y_sample, query_idx, axis=0)\n",
        "        y_pred = regressor.predict(X_test_scale)\n",
        "        y_pred = y_pred.reshape(-1,1)\n",
        "        y_pred_or = scaler_y.inverse_transform(y_pred)\n",
        "        rmse = np.sqrt(mean_squared_error(y_test, y_pred_or))\n",
        "        r2 = r2_score(y_test, y_pred_or)\n",
        "        metrics.append([i,rmse,r2])\n",
        "        print(f'Iteration: {i}, RMSE: {rmse}, R2: {r2}')\n",
        "\n"
      ],
      "metadata": {
        "colab": {
          "base_uri": "https://localhost:8080/"
        },
        "id": "KxI-p6SpS0Um",
        "outputId": "13489af3-1521-4bb3-fa44-cbe2465e54be"
      },
      "execution_count": 10,
      "outputs": [
        {
          "output_type": "stream",
          "name": "stdout",
          "text": [
            "Iteration: 0, RMSE: 0.015573006869485326, R2: -0.14007116101130346\n",
            "Iteration: 1, RMSE: 0.00864269642225848, R2: 0.6488557779177078\n",
            "Iteration: 2, RMSE: 0.00823923870723956, R2: 0.6808747408473569\n",
            "Iteration: 3, RMSE: 0.008245117760038598, R2: 0.6804191590458553\n",
            "Iteration: 4, RMSE: 0.00824299533937792, R2: 0.6805836679586011\n",
            "Iteration: 5, RMSE: 0.008243642466425895, R2: 0.680533513602506\n",
            "Iteration: 6, RMSE: 0.008257727957618538, R2: 0.6794408687615008\n",
            "Iteration: 7, RMSE: 0.00825546166028849, R2: 0.6796167967206272\n",
            "Iteration: 8, RMSE: 0.0059841056659306864, R2: 0.8316607000360335\n",
            "Iteration: 9, RMSE: 0.005981075933135826, R2: 0.8318311161398697\n",
            "Iteration: 10, RMSE: 0.006059964570045655, R2: 0.8273656635888161\n",
            "Iteration: 11, RMSE: 0.006065775731056985, R2: 0.8270344118390571\n",
            "Iteration: 12, RMSE: 0.005206749025747682, R2: 0.8725557345412298\n",
            "Iteration: 13, RMSE: 0.0051119547589888676, R2: 0.8771540019820934\n",
            "Iteration: 14, RMSE: 0.005109379653824705, R2: 0.8772777361314054\n",
            "Iteration: 15, RMSE: 0.005108361673213708, R2: 0.8773266330419318\n",
            "Iteration: 16, RMSE: 0.0047965818263701766, R2: 0.8918439731533369\n",
            "Iteration: 17, RMSE: 0.004845815782227163, R2: 0.8896122681996634\n",
            "Iteration: 18, RMSE: 0.004849971696283941, R2: 0.8894228434791345\n",
            "Iteration: 19, RMSE: 0.004853157770841508, R2: 0.8892775136475318\n",
            "Iteration: 20, RMSE: 0.004873920990181943, R2: 0.8883280810602486\n",
            "Iteration: 21, RMSE: 0.004404029539476902, R2: 0.9088225469998626\n",
            "Iteration: 22, RMSE: 0.004371885251525671, R2: 0.9101486681980615\n",
            "Iteration: 23, RMSE: 0.004373540598357644, R2: 0.9100806136783219\n",
            "Iteration: 24, RMSE: 0.004368212688606456, R2: 0.9102995624004995\n",
            "Iteration: 25, RMSE: 0.004169765427185226, R2: 0.9182645876515756\n",
            "Iteration: 26, RMSE: 0.004170628245346304, R2: 0.9182307583651158\n",
            "Iteration: 27, RMSE: 0.004201648360641325, R2: 0.917009875536416\n",
            "Iteration: 28, RMSE: 0.004199507407497358, R2: 0.9170944293518091\n",
            "Iteration: 29, RMSE: 0.004145958664859863, R2: 0.9191952398707108\n",
            "Iteration: 30, RMSE: 0.004118674626311555, R2: 0.920255272545786\n",
            "Iteration: 31, RMSE: 0.004118899927302731, R2: 0.9202465478665273\n",
            "Iteration: 32, RMSE: 0.004122076648378108, R2: 0.9201234799711581\n",
            "Iteration: 33, RMSE: 0.0040692822514265285, R2: 0.9221564491656858\n",
            "Iteration: 34, RMSE: 0.004070577044635327, R2: 0.9221069036537318\n",
            "Iteration: 35, RMSE: 0.004072953748620445, R2: 0.9220159175962652\n",
            "Iteration: 36, RMSE: 0.003971794203764859, R2: 0.9258415771390935\n",
            "Iteration: 37, RMSE: 0.0039697009835276955, R2: 0.9259197226817829\n",
            "Iteration: 38, RMSE: 0.003954394508878159, R2: 0.9264899025598003\n",
            "Iteration: 39, RMSE: 0.003952975409468322, R2: 0.9265426537041397\n",
            "Iteration: 40, RMSE: 0.0038364573056367973, R2: 0.9308092961385507\n",
            "Iteration: 41, RMSE: 0.003778790400206772, R2: 0.9328737143932251\n",
            "Iteration: 42, RMSE: 0.0037781013239422175, R2: 0.9328981936089765\n",
            "Iteration: 43, RMSE: 0.0037771304120469873, R2: 0.9329326773695653\n",
            "Iteration: 44, RMSE: 0.003806734609444758, R2: 0.9318772438184961\n",
            "Iteration: 45, RMSE: 0.00380606930140086, R2: 0.9319010535461303\n",
            "Iteration: 46, RMSE: 0.0037726280102099766, R2: 0.933092472785997\n",
            "Iteration: 47, RMSE: 0.003772375496184571, R2: 0.9331014291546398\n",
            "Iteration: 48, RMSE: 0.0036501814220159085, R2: 0.9373651689345298\n",
            "Iteration: 49, RMSE: 0.0036499036045030044, R2: 0.9373747029213506\n",
            "Iteration: 50, RMSE: 0.003671190068020372, R2: 0.936642103640412\n",
            "Iteration: 51, RMSE: 0.003669994876493861, R2: 0.936683350480259\n",
            "Iteration: 52, RMSE: 0.0035553455284302563, R2: 0.9405775384595388\n",
            "Iteration: 53, RMSE: 0.003498345120965357, R2: 0.9424676236486764\n",
            "Iteration: 54, RMSE: 0.0034979536947219226, R2: 0.9424804974054501\n",
            "Iteration: 55, RMSE: 0.003498329992757446, R2: 0.942468121232442\n",
            "Iteration: 56, RMSE: 0.0035175875116437516, R2: 0.9418329777938793\n",
            "Iteration: 57, RMSE: 0.0035177192913773752, R2: 0.9418286194782733\n",
            "Iteration: 58, RMSE: 0.003518018203138297, R2: 0.9418187330449863\n",
            "Iteration: 59, RMSE: 0.0034922532730636354, R2: 0.9426678173522482\n",
            "Iteration: 60, RMSE: 0.0034862207053169758, R2: 0.9428657191233386\n",
            "Iteration: 61, RMSE: 0.003484770417533372, R2: 0.9429132456118926\n",
            "Iteration: 62, RMSE: 0.003484789095905936, R2: 0.9429126336401431\n",
            "Iteration: 63, RMSE: 0.0034908587545372165, R2: 0.9427135957203844\n",
            "Iteration: 64, RMSE: 0.00345202437647921, R2: 0.9439810818596\n",
            "Iteration: 65, RMSE: 0.0034507672944167123, R2: 0.944021873897782\n",
            "Iteration: 66, RMSE: 0.0034508612484214943, R2: 0.9440188256245853\n",
            "Iteration: 67, RMSE: 0.003413107700910535, R2: 0.9452370298070117\n",
            "Iteration: 68, RMSE: 0.0033863364476550855, R2: 0.9460927447637412\n",
            "Iteration: 69, RMSE: 0.0033858034361477158, R2: 0.9461097135006076\n",
            "Iteration: 70, RMSE: 0.003387601000334, R2: 0.9460524762947928\n",
            "Iteration: 71, RMSE: 0.0033895958218298945, R2: 0.9459889225497137\n",
            "Iteration: 72, RMSE: 0.0033875035227628214, R2: 0.9460555809094878\n",
            "Iteration: 73, RMSE: 0.0033891426051209325, R2: 0.946003365030501\n",
            "Iteration: 74, RMSE: 0.003388985081433997, R2: 0.9460083843243723\n",
            "Iteration: 75, RMSE: 0.003354496697565411, R2: 0.9471016961403033\n",
            "Iteration: 76, RMSE: 0.003313072404164978, R2: 0.9484000995404963\n",
            "Iteration: 77, RMSE: 0.0033131542622689813, R2: 0.9483975496884653\n",
            "Iteration: 78, RMSE: 0.0033136830651525526, R2: 0.9483810761409002\n",
            "Iteration: 79, RMSE: 0.0032910166099960887, R2: 0.949084834699554\n",
            "Iteration: 80, RMSE: 0.0032916761413835593, R2: 0.9490644254957217\n",
            "Iteration: 81, RMSE: 0.0032906087088574692, R2: 0.9490974551565772\n",
            "Iteration: 82, RMSE: 0.003291941153130362, R2: 0.949056223553383\n",
            "Iteration: 83, RMSE: 0.003238935771018795, R2: 0.950683564225001\n",
            "Iteration: 84, RMSE: 0.0032225729215633685, R2: 0.9511805911056739\n",
            "Iteration: 85, RMSE: 0.003221869041904362, R2: 0.9512019152071988\n",
            "Iteration: 86, RMSE: 0.0032229844360867907, R2: 0.9511681220761198\n",
            "Iteration: 87, RMSE: 0.003186748560889348, R2: 0.9522599789280025\n",
            "Iteration: 88, RMSE: 0.0032019969476003024, R2: 0.9518020200361977\n",
            "Iteration: 89, RMSE: 0.0032014292475152453, R2: 0.9518191091041709\n",
            "Iteration: 90, RMSE: 0.003203066278130075, R2: 0.9517698225180223\n",
            "Iteration: 91, RMSE: 0.003196873650692737, R2: 0.9519561332447752\n",
            "Iteration: 92, RMSE: 0.0031743153163621357, R2: 0.9526317719560258\n",
            "Iteration: 93, RMSE: 0.0031726466748559913, R2: 0.9526815589550399\n",
            "Iteration: 94, RMSE: 0.003174088446417931, R2: 0.9526385425771873\n",
            "Iteration: 95, RMSE: 0.003173464722125755, R2: 0.952657154275997\n",
            "Iteration: 96, RMSE: 0.0031564319877103405, R2: 0.9531639909212627\n",
            "Iteration: 97, RMSE: 0.003163138761533422, R2: 0.9529647455456193\n",
            "Iteration: 98, RMSE: 0.0031641644141369553, R2: 0.9529342380933256\n",
            "Iteration: 99, RMSE: 0.003166451451819624, R2: 0.9528661758448937\n",
            "Iteration: 100, RMSE: 0.0031459476871274826, R2: 0.9534746120804679\n",
            "Iteration: 101, RMSE: 0.003147589985386533, R2: 0.9534260235372389\n",
            "Iteration: 102, RMSE: 0.003146286388806478, R2: 0.9534645934298994\n",
            "Iteration: 103, RMSE: 0.0031323288072093998, R2: 0.9538765591236943\n",
            "Iteration: 104, RMSE: 0.003145601210086089, R2: 0.9534848596069223\n",
            "Iteration: 105, RMSE: 0.0031464083129565893, R2: 0.9534609867017573\n",
            "Iteration: 106, RMSE: 0.0031454613394327033, R2: 0.9534889961506201\n",
            "Iteration: 107, RMSE: 0.0031387868874777317, R2: 0.9536861730132745\n",
            "Iteration: 108, RMSE: 0.0031408984119702396, R2: 0.9536238395850379\n",
            "Iteration: 109, RMSE: 0.0031416922047578346, R2: 0.9536003955198888\n",
            "Iteration: 110, RMSE: 0.003140484702265393, R2: 0.9536360558375505\n",
            "Iteration: 111, RMSE: 0.003150647438584262, R2: 0.953335499095428\n",
            "Iteration: 112, RMSE: 0.0031449142887082374, R2: 0.9535051728973916\n",
            "Iteration: 113, RMSE: 0.003146084379935173, R2: 0.9534705688955827\n",
            "Iteration: 114, RMSE: 0.003146202506132357, R2: 0.9534670747439481\n",
            "Iteration: 115, RMSE: 0.003132645023363353, R2: 0.9538672461082525\n",
            "Iteration: 116, RMSE: 0.003132179295922156, R2: 0.9538809621163964\n",
            "Iteration: 117, RMSE: 0.003132685315327571, R2: 0.9538660593850783\n",
            "Iteration: 118, RMSE: 0.0031377679454434398, R2: 0.9537162377784023\n",
            "Iteration: 119, RMSE: 0.0031282878987076894, R2: 0.9539954868571859\n",
            "Iteration: 120, RMSE: 0.003127646002693247, R2: 0.9540143643294229\n",
            "Iteration: 121, RMSE: 0.0031287058341847715, R2: 0.9539831937415154\n",
            "Iteration: 122, RMSE: 0.003114123336955448, R2: 0.954411150967034\n",
            "Iteration: 123, RMSE: 0.0031148956775439887, R2: 0.9543885349811193\n",
            "Iteration: 124, RMSE: 0.003114310757943709, R2: 0.954405663346069\n",
            "Iteration: 125, RMSE: 0.0030939243367239296, R2: 0.9550006348385848\n",
            "Iteration: 126, RMSE: 0.0030962954391889957, R2: 0.954931635742706\n",
            "Iteration: 127, RMSE: 0.0030962318756092753, R2: 0.9549334861327712\n",
            "Iteration: 128, RMSE: 0.0030967567771813605, R2: 0.954918204661567\n",
            "Iteration: 129, RMSE: 0.003089531404817109, R2: 0.9551283294990794\n",
            "Iteration: 130, RMSE: 0.00307755129989717, R2: 0.9554756475889201\n",
            "Iteration: 131, RMSE: 0.003077294462415929, R2: 0.9554830788511388\n",
            "Iteration: 132, RMSE: 0.003078021621798626, R2: 0.9554620378218248\n",
            "Iteration: 133, RMSE: 0.003054724966338792, R2: 0.9561336763573809\n",
            "Iteration: 134, RMSE: 0.003041891392278076, R2: 0.9565014863279677\n",
            "Iteration: 135, RMSE: 0.003041395865613651, R2: 0.9565156570625343\n",
            "Iteration: 136, RMSE: 0.0030422123922388845, R2: 0.9564923053572378\n",
            "Iteration: 137, RMSE: 0.0030312196391939924, R2: 0.9568061593491325\n",
            "Iteration: 138, RMSE: 0.00302542455696335, R2: 0.9569711573467923\n",
            "Iteration: 139, RMSE: 0.003025035364121599, R2: 0.9569822271587093\n",
            "Iteration: 140, RMSE: 0.003025787382743297, R2: 0.9569608362105423\n",
            "Iteration: 141, RMSE: 0.003008614446447688, R2: 0.9574479896743688\n",
            "Iteration: 142, RMSE: 0.0030184047672817274, R2: 0.9571706024149765\n",
            "Iteration: 143, RMSE: 0.0030179319889194023, R2: 0.9571840182608992\n",
            "Iteration: 144, RMSE: 0.003018860275637451, R2: 0.9571576746454821\n",
            "Iteration: 145, RMSE: 0.0030176468791099924, R2: 0.9571921076942044\n",
            "Iteration: 146, RMSE: 0.003020036772230031, R2: 0.9571242755035708\n",
            "Iteration: 147, RMSE: 0.0030209188222002493, R2: 0.9570992267660083\n",
            "Iteration: 148, RMSE: 0.0030198643799499185, R2: 0.9571291703002256\n",
            "Iteration: 149, RMSE: 0.0030141820374911745, R2: 0.9572903547200045\n",
            "Iteration: 150, RMSE: 0.003008603343848474, R2: 0.9574483037305918\n",
            "Iteration: 151, RMSE: 0.003009348541271443, R2: 0.9574272219608719\n",
            "Iteration: 152, RMSE: 0.0030083414231336313, R2: 0.9574557122748876\n",
            "Iteration: 153, RMSE: 0.003008119629944372, R2: 0.9574619852898758\n",
            "Iteration: 154, RMSE: 0.0030059555830051596, R2: 0.9575231671309258\n",
            "Iteration: 155, RMSE: 0.0030068966820424067, R2: 0.9574965658302416\n",
            "Iteration: 156, RMSE: 0.0030103886311969082, R2: 0.9573977888999516\n",
            "Iteration: 157, RMSE: 0.0030102248707548416, R2: 0.95740242376144\n",
            "Iteration: 158, RMSE: 0.0030191676845472094, R2: 0.9571489489795824\n",
            "Iteration: 159, RMSE: 0.003019870520870429, R2: 0.9571289959436374\n",
            "Iteration: 160, RMSE: 0.003018846085514523, R2: 0.9571580774043904\n",
            "Iteration: 161, RMSE: 0.003011678216478973, R2: 0.9573612813532337\n",
            "Iteration: 162, RMSE: 0.0030125882339149482, R2: 0.9573355097821123\n",
            "Iteration: 163, RMSE: 0.0030053789247162987, R2: 0.9575394629593741\n",
            "Iteration: 164, RMSE: 0.003004741942294527, R2: 0.9575574598577091\n",
            "Iteration: 165, RMSE: 0.0030053709906789237, R2: 0.9575396871461084\n",
            "Iteration: 166, RMSE: 0.0029969053113972507, R2: 0.9577785589033554\n",
            "Iteration: 167, RMSE: 0.002996058490262846, R2: 0.9578024161517579\n",
            "Iteration: 168, RMSE: 0.003039286229301776, R2: 0.9565759611708728\n",
            "Iteration: 169, RMSE: 0.003039804184608149, R2: 0.9565611592561087\n",
            "Iteration: 170, RMSE: 0.0030377593665879437, R2: 0.9566195805514685\n",
            "Iteration: 171, RMSE: 0.003037146743980953, R2: 0.9566370757791576\n",
            "Iteration: 172, RMSE: 0.003033068450895678, R2: 0.9567534534149182\n",
            "Iteration: 173, RMSE: 0.0030350860497798614, R2: 0.9566958990231761\n",
            "Iteration: 174, RMSE: 0.003035605115381533, R2: 0.9566810858739313\n",
            "Iteration: 175, RMSE: 0.003035018172197305, R2: 0.9566978359335453\n",
            "Iteration: 176, RMSE: 0.0030343767445269107, R2: 0.9567161371558818\n",
            "Iteration: 177, RMSE: 0.0030251847495596533, R2: 0.9569779783571318\n",
            "Iteration: 178, RMSE: 0.0030258016193609595, R2: 0.9569604312028643\n",
            "Iteration: 179, RMSE: 0.003025293003939592, R2: 0.9569748992687509\n",
            "Iteration: 180, RMSE: 0.0030297308374459793, R2: 0.9568485787582919\n",
            "Iteration: 181, RMSE: 0.003030500711572961, R2: 0.9568266458636587\n",
            "Iteration: 182, RMSE: 0.0030379277297031184, R2: 0.9566147718328889\n",
            "Iteration: 183, RMSE: 0.0030375772368624447, R2: 0.9566247821662663\n",
            "Iteration: 184, RMSE: 0.003039764152818293, R2: 0.9565623033581551\n",
            "Iteration: 185, RMSE: 0.003031567967200232, R2: 0.9567962316694132\n",
            "Iteration: 186, RMSE: 0.0030322344749302765, R2: 0.9567772323850063\n",
            "Iteration: 187, RMSE: 0.00303212478570769, R2: 0.956780359442669\n",
            "Iteration: 188, RMSE: 0.0030338352446488996, R2: 0.9567315842259656\n",
            "Iteration: 189, RMSE: 0.0030342449191754248, R2: 0.9567198979192739\n",
            "Iteration: 190, RMSE: 0.003050264880293117, R2: 0.9562616778968769\n",
            "Iteration: 191, RMSE: 0.0030501768148158736, R2: 0.9562642034353184\n",
            "Iteration: 192, RMSE: 0.00304843894428324, R2: 0.9563140271037445\n",
            "Iteration: 193, RMSE: 0.003048957927057057, R2: 0.9562991511638094\n",
            "Iteration: 194, RMSE: 0.003048725769145749, R2: 0.9563058059696642\n",
            "Iteration: 195, RMSE: 0.0030385602070703457, R2: 0.956596704891365\n",
            "Iteration: 196, RMSE: 0.00303285737800659, R2: 0.9567594723070476\n",
            "Iteration: 197, RMSE: 0.0030334707620073087, R2: 0.9567419800700864\n",
            "Iteration: 198, RMSE: 0.0030332388126206172, R2: 0.9567485951248373\n",
            "Iteration: 199, RMSE: 0.003027292412656741, R2: 0.9569180101091733\n",
            "Iteration: 200, RMSE: 0.0030234999242649114, R2: 0.9570258857821408\n"
          ]
        }
      ]
    },
    {
      "cell_type": "markdown",
      "source": [
        "Now we want to create a random sampling loop"
      ],
      "metadata": {
        "id": "nSjhU0ZOY7qq"
      }
    },
    {
      "cell_type": "code",
      "source": [
        "# Function for Random sample selection\n",
        "def rand(domain):\n",
        "    new_idx = np.random.choice(domain, size=1, replace=False)\n",
        "    return new_idx\n",
        "\n",
        "# Redefine sampling spaces for random sampling\n",
        "X_sample_r = X_sample_in.copy()\n",
        "y_sample_r = y_sample_in.copy()\n",
        "\n",
        "# Initialize the training using the samples used to initilize AL\n",
        "X_train = []\n",
        "y_train = []\n",
        "for k in range (len(X_ini)):\n",
        "    X_train.append(X_ini[k])\n",
        "    y_train.append(y_ini[k])\n",
        "metrics_rand = []\n",
        "# Training loop\n",
        "for j in range (n_samples+1):\n",
        "    new_idx_r = rand(len(X_sample_r))[0]\n",
        "    X_train.append(X_sample_r[new_idx_r])\n",
        "    y_train.append(y_sample_r[new_idx_r])\n",
        "    gpr.fit(np.array(X_train), np.array(y_train))\n",
        "    # Delete the query from the samples space to avoid reselection\n",
        "    X_sample_r = np.delete(X_sample_r, new_idx_r, axis=0)\n",
        "    y_sample_r = np.delete(y_sample_r, new_idx_r, axis=0)\n",
        "    # Predict\n",
        "    y_pred_r = gpr.predict(X_test_scale)\n",
        "    y_pred_r = y_pred_r.reshape(-1,1)\n",
        "    y_pred_r_or = scaler_y.inverse_transform(y_pred_r)\n",
        "    # Metrics\n",
        "    rmse_r = np.sqrt(mean_squared_error(y_test, y_pred_r_or))\n",
        "    r2_r = r2_score(y_test, y_pred_r_or)\n",
        "    metrics_rand.append([j,rmse_r,r2_r])\n",
        "    print(f'Iteration: {j}, RMSE: {rmse_r}, R2: {r2_r}')"
      ],
      "metadata": {
        "colab": {
          "base_uri": "https://localhost:8080/"
        },
        "id": "2gILXe7uHY6N",
        "outputId": "66c1a1c5-0743-40db-d9f3-299a6f7a8bd1"
      },
      "execution_count": 11,
      "outputs": [
        {
          "output_type": "stream",
          "name": "stdout",
          "text": [
            "Iteration: 0, RMSE: 0.015553230118784527, R2: -0.1371773606375406\n",
            "Iteration: 1, RMSE: 0.015544649980545864, R2: -0.13592302985783422\n",
            "Iteration: 2, RMSE: 0.015251410611367847, R2: -0.0934704144131262\n",
            "Iteration: 3, RMSE: 0.015342428142596098, R2: -0.10656060695295899\n",
            "Iteration: 4, RMSE: 0.015341180980090656, R2: -0.10638071302813246\n",
            "Iteration: 5, RMSE: 0.014993203017066803, R2: -0.05675875108793327\n",
            "Iteration: 6, RMSE: 0.014993580739733545, R2: -0.05681199745045329\n",
            "Iteration: 7, RMSE: 0.014998896500783584, R2: -0.05756148564801\n",
            "Iteration: 8, RMSE: 0.014996612455621972, R2: -0.0572394173844335\n",
            "Iteration: 9, RMSE: 0.014994674062545408, R2: -0.05696612724927719\n",
            "Iteration: 10, RMSE: 0.014165657547114636, R2: 0.05667686247134629\n",
            "Iteration: 11, RMSE: 0.0141783223560311, R2: 0.05498935197553878\n",
            "Iteration: 12, RMSE: 0.014262925806509612, R2: 0.0436777598437299\n",
            "Iteration: 13, RMSE: 0.014257047869554005, R2: 0.0444658230543199\n",
            "Iteration: 14, RMSE: 0.014245030989285867, R2: 0.046075932067108805\n",
            "Iteration: 15, RMSE: 0.01424743420584442, R2: 0.0457540402446186\n",
            "Iteration: 16, RMSE: 0.014251406691266537, R2: 0.04522183822466408\n",
            "Iteration: 17, RMSE: 0.01425558539322726, R2: 0.04466184883069746\n",
            "Iteration: 18, RMSE: 0.01426673146255606, R2: 0.04316735698464769\n",
            "Iteration: 19, RMSE: 0.01426776158149887, R2: 0.04302917718959409\n",
            "Iteration: 20, RMSE: 0.014281938715028183, R2: 0.041126447945918354\n",
            "Iteration: 21, RMSE: 0.014281684236080016, R2: 0.04116061851111674\n",
            "Iteration: 22, RMSE: 0.014282853339189688, R2: 0.04100363030636234\n",
            "Iteration: 23, RMSE: 0.014282472503307192, R2: 0.04105477069841146\n",
            "Iteration: 24, RMSE: 0.014282874204671787, R2: 0.041000828354157415\n",
            "Iteration: 25, RMSE: 0.014283949131851654, R2: 0.04085647462657094\n",
            "Iteration: 26, RMSE: 0.013945487065067123, R2: 0.08577228257176406\n",
            "Iteration: 27, RMSE: 0.013951128129079445, R2: 0.0850325077442361\n",
            "Iteration: 28, RMSE: 0.013957522636886398, R2: 0.0841935637435226\n",
            "Iteration: 29, RMSE: 0.01361525188146357, R2: 0.12855823547081124\n",
            "Iteration: 30, RMSE: 0.013623443562619684, R2: 0.12750930584078135\n",
            "Iteration: 31, RMSE: 0.01362579626216503, R2: 0.12720793039246747\n",
            "Iteration: 32, RMSE: 0.01362108647155256, R2: 0.12781119164570642\n",
            "Iteration: 33, RMSE: 0.013620409889731748, R2: 0.12789783560578782\n",
            "Iteration: 34, RMSE: 0.0136275491521037, R2: 0.12698335535620098\n",
            "Iteration: 35, RMSE: 0.013623413712484943, R2: 0.12751312924066238\n",
            "Iteration: 36, RMSE: 0.01363415922855446, R2: 0.12613623218720604\n",
            "Iteration: 37, RMSE: 0.013641827667376287, R2: 0.1251529584490345\n",
            "Iteration: 38, RMSE: 0.013645321901716133, R2: 0.12470473228008949\n",
            "Iteration: 39, RMSE: 0.013629366239642926, R2: 0.12675052501964712\n",
            "Iteration: 40, RMSE: 0.013632723417321104, R2: 0.126320275416701\n",
            "Iteration: 41, RMSE: 0.012375959810954512, R2: 0.2799796179730025\n",
            "Iteration: 42, RMSE: 0.012381183234627119, R2: 0.27937170307226256\n",
            "Iteration: 43, RMSE: 0.012384887771278861, R2: 0.2789404045011574\n",
            "Iteration: 44, RMSE: 0.012385992832054176, R2: 0.2788117234442311\n",
            "Iteration: 45, RMSE: 0.012390340749727268, R2: 0.27830530984293944\n",
            "Iteration: 46, RMSE: 0.0123936602939512, R2: 0.27791855399677745\n",
            "Iteration: 47, RMSE: 0.012393170985914666, R2: 0.27797556915961863\n",
            "Iteration: 48, RMSE: 0.012391455902216264, R2: 0.27817539641069833\n",
            "Iteration: 49, RMSE: 0.0124029970184455, R2: 0.27683018867950426\n",
            "Iteration: 50, RMSE: 0.012422160185106298, R2: 0.27459380510622666\n",
            "Iteration: 51, RMSE: 0.012422285061176092, R2: 0.2745792204722197\n",
            "Iteration: 52, RMSE: 0.012449315622842402, R2: 0.2714187930888061\n",
            "Iteration: 53, RMSE: 0.012459856003249194, R2: 0.27018454466960706\n",
            "Iteration: 54, RMSE: 0.012415801508647803, R2: 0.2753362593439562\n",
            "Iteration: 55, RMSE: 0.012411964062373352, R2: 0.27578414479369906\n",
            "Iteration: 56, RMSE: 0.012409606279037038, R2: 0.27605926352329346\n",
            "Iteration: 57, RMSE: 0.01240816329798862, R2: 0.2762276124627866\n",
            "Iteration: 58, RMSE: 0.012409828293994053, R2: 0.27603335986356226\n",
            "Iteration: 59, RMSE: 0.012410448116572718, R2: 0.2759610394308688\n",
            "Iteration: 60, RMSE: 0.01240757031734366, R2: 0.27629678833541604\n",
            "Iteration: 61, RMSE: 0.012407806645145741, R2: 0.27626921922819847\n",
            "Iteration: 62, RMSE: 0.012411132233167135, R2: 0.275881213027254\n",
            "Iteration: 63, RMSE: 0.012409858397282435, R2: 0.27602984751794934\n",
            "Iteration: 64, RMSE: 0.012409861006601061, R2: 0.27602954307144545\n",
            "Iteration: 65, RMSE: 0.01241269160823316, R2: 0.2756992403117109\n",
            "Iteration: 66, RMSE: 0.012412232494461389, R2: 0.2757528193925961\n",
            "Iteration: 67, RMSE: 0.01241520053621654, R2: 0.27540641065714533\n",
            "Iteration: 68, RMSE: 0.012414939412830065, R2: 0.2754368904454578\n",
            "Iteration: 69, RMSE: 0.012416824659675786, R2: 0.2752168194510616\n",
            "Iteration: 70, RMSE: 0.01241839460948177, R2: 0.27503352860502284\n",
            "Iteration: 71, RMSE: 0.012418487770503757, R2: 0.2750226513744568\n",
            "Iteration: 72, RMSE: 0.012421608121837593, R2: 0.2746582804004294\n",
            "Iteration: 73, RMSE: 0.01242748803098047, R2: 0.2739714204066801\n",
            "Iteration: 74, RMSE: 0.012425028821576745, R2: 0.27425873183255156\n",
            "Iteration: 75, RMSE: 0.012434210259855772, R2: 0.27318576682187357\n",
            "Iteration: 76, RMSE: 0.012416491599919671, R2: 0.27525570102963737\n",
            "Iteration: 77, RMSE: 0.012417264475759946, R2: 0.2751654734822383\n",
            "Iteration: 78, RMSE: 0.011481774472850063, R2: 0.38026641279972395\n",
            "Iteration: 79, RMSE: 0.01148073172179165, R2: 0.38037897353865435\n",
            "Iteration: 80, RMSE: 0.011480055520417585, R2: 0.38045196126464287\n",
            "Iteration: 81, RMSE: 0.011478326514989057, R2: 0.38063856685269226\n",
            "Iteration: 82, RMSE: 0.011471782444060385, R2: 0.38134459133209375\n",
            "Iteration: 83, RMSE: 0.011473728335426264, R2: 0.38113469573410785\n",
            "Iteration: 84, RMSE: 0.01147659040452, R2: 0.38082591098306495\n",
            "Iteration: 85, RMSE: 0.011315432685213815, R2: 0.3980930743720694\n",
            "Iteration: 86, RMSE: 0.01130975509216888, R2: 0.3986969443826216\n",
            "Iteration: 87, RMSE: 0.01130794193015468, R2: 0.3988897288339589\n",
            "Iteration: 88, RMSE: 0.011306526767808786, R2: 0.3990401744936817\n",
            "Iteration: 89, RMSE: 0.011301774648888997, R2: 0.39954523364474526\n",
            "Iteration: 90, RMSE: 0.011303618499254042, R2: 0.3993492929029554\n",
            "Iteration: 91, RMSE: 0.011285820944244218, R2: 0.40123925375152336\n",
            "Iteration: 92, RMSE: 0.011281787734927847, R2: 0.4016671350587232\n",
            "Iteration: 93, RMSE: 0.011280405035865705, R2: 0.40181378975790827\n",
            "Iteration: 94, RMSE: 0.011280334880041964, R2: 0.4018212302914169\n",
            "Iteration: 95, RMSE: 0.011276648372717125, R2: 0.40221214600486854\n",
            "Iteration: 96, RMSE: 0.01127532669619012, R2: 0.4023522649210497\n",
            "Iteration: 97, RMSE: 0.011278019004035605, R2: 0.4020668197480656\n",
            "Iteration: 98, RMSE: 0.011227255391720228, R2: 0.40743743252616904\n",
            "Iteration: 99, RMSE: 0.01092737047438354, R2: 0.43866988253545547\n",
            "Iteration: 100, RMSE: 0.010923985776513856, R2: 0.4390175670236711\n",
            "Iteration: 101, RMSE: 0.010923795977581072, R2: 0.43903706044746393\n",
            "Iteration: 102, RMSE: 0.01092450467977768, R2: 0.43896427099508195\n",
            "Iteration: 103, RMSE: 0.010926631009278796, R2: 0.43874585140473155\n",
            "Iteration: 104, RMSE: 0.010847000230450307, R2: 0.4468966251226656\n",
            "Iteration: 105, RMSE: 0.010844766716310896, R2: 0.4471243815520388\n",
            "Iteration: 106, RMSE: 0.010844301192598016, R2: 0.44717184613902383\n",
            "Iteration: 107, RMSE: 0.010844136543626566, R2: 0.4471886331858437\n",
            "Iteration: 108, RMSE: 0.010844533252838039, R2: 0.44714818563671055\n",
            "Iteration: 109, RMSE: 0.01084641269763235, R2: 0.4469565417035788\n",
            "Iteration: 110, RMSE: 0.01084952417495273, R2: 0.4466391964128511\n",
            "Iteration: 111, RMSE: 0.010853480366433833, R2: 0.4462355657283865\n",
            "Iteration: 112, RMSE: 0.01043085648908154, R2: 0.48852200952674285\n",
            "Iteration: 113, RMSE: 0.010414045768228127, R2: 0.4901693114646053\n",
            "Iteration: 114, RMSE: 0.010405967559520304, R2: 0.4909599592925833\n",
            "Iteration: 115, RMSE: 0.010406169602334151, R2: 0.4909401920042369\n",
            "Iteration: 116, RMSE: 0.01032463815190645, R2: 0.49888582318758157\n",
            "Iteration: 117, RMSE: 0.010320297273634132, R2: 0.4993071102728931\n",
            "Iteration: 118, RMSE: 0.010312946318102149, R2: 0.5000201246888282\n",
            "Iteration: 119, RMSE: 0.010312143565140023, R2: 0.5000979578691276\n",
            "Iteration: 120, RMSE: 0.010312066138780534, R2: 0.500105464640086\n",
            "Iteration: 121, RMSE: 0.010311823700441178, R2: 0.5001289695662053\n",
            "Iteration: 122, RMSE: 0.0101862359721779, R2: 0.5122306858604149\n",
            "Iteration: 123, RMSE: 0.01018786112927228, R2: 0.5120750317014046\n",
            "Iteration: 124, RMSE: 0.009794642609253565, R2: 0.5490128190580543\n",
            "Iteration: 125, RMSE: 0.009795223554429824, R2: 0.5489593190769557\n",
            "Iteration: 126, RMSE: 0.009783153200167455, R2: 0.5500702414365919\n",
            "Iteration: 127, RMSE: 0.009783254905306854, R2: 0.5500608864963721\n",
            "Iteration: 128, RMSE: 0.009783095089952253, R2: 0.5500755864285207\n",
            "Iteration: 129, RMSE: 0.009782737224609175, R2: 0.550108502271253\n",
            "Iteration: 130, RMSE: 0.009782017438791778, R2: 0.5501747032943247\n",
            "Iteration: 131, RMSE: 0.009780352795399053, R2: 0.5503277872567595\n",
            "Iteration: 132, RMSE: 0.009775252779702787, R2: 0.5507966327995171\n",
            "Iteration: 133, RMSE: 0.009775201540954643, R2: 0.5508013419478928\n",
            "Iteration: 134, RMSE: 0.009769692105390419, R2: 0.551307548112054\n",
            "Iteration: 135, RMSE: 0.00976845892039904, R2: 0.551420813887439\n",
            "Iteration: 136, RMSE: 0.009766652055330075, R2: 0.5515867453015555\n",
            "Iteration: 137, RMSE: 0.009767532371542624, R2: 0.5515059062901997\n",
            "Iteration: 138, RMSE: 0.009764443394995978, R2: 0.5517895334377838\n",
            "Iteration: 139, RMSE: 0.00969483283553351, R2: 0.5581573246742049\n",
            "Iteration: 140, RMSE: 0.00969524077994118, R2: 0.5581201397028295\n",
            "Iteration: 141, RMSE: 0.009693704647366725, R2: 0.5582601531978464\n",
            "Iteration: 142, RMSE: 0.009689549798482466, R2: 0.5586387430241715\n",
            "Iteration: 143, RMSE: 0.009688484007795699, R2: 0.55873583171384\n",
            "Iteration: 144, RMSE: 0.009689882794742628, R2: 0.5586084063880091\n",
            "Iteration: 145, RMSE: 0.009689973468846909, R2: 0.5586001456122094\n",
            "Iteration: 146, RMSE: 0.0096899031046295, R2: 0.5586065560823\n",
            "Iteration: 147, RMSE: 0.009689489415637444, R2: 0.5586442439124258\n",
            "Iteration: 148, RMSE: 0.00968888345416066, R2: 0.5586994452159305\n",
            "Iteration: 149, RMSE: 0.009688382169720056, R2: 0.5587451081408925\n",
            "Iteration: 150, RMSE: 0.009688106514251659, R2: 0.5587702170995168\n",
            "Iteration: 151, RMSE: 0.009632322704656316, R2: 0.5638367626310236\n",
            "Iteration: 152, RMSE: 0.009628422993568302, R2: 0.5641898584216245\n",
            "Iteration: 153, RMSE: 0.009628547088413274, R2: 0.5641786245694127\n",
            "Iteration: 154, RMSE: 0.009627949568160498, R2: 0.564232714561559\n",
            "Iteration: 155, RMSE: 0.009625699019379298, R2: 0.5644364133666403\n",
            "Iteration: 156, RMSE: 0.009625253317211263, R2: 0.5644767485443798\n",
            "Iteration: 157, RMSE: 0.009625788251579009, R2: 0.5644283378020459\n",
            "Iteration: 158, RMSE: 0.009625476688511566, R2: 0.5644565341104107\n",
            "Iteration: 159, RMSE: 0.00962489652336429, R2: 0.5645090363462976\n",
            "Iteration: 160, RMSE: 0.007958035219265346, R2: 0.7022863664039538\n",
            "Iteration: 161, RMSE: 0.007958479576651767, R2: 0.7022531182611917\n",
            "Iteration: 162, RMSE: 0.007959182110402727, R2: 0.7022005488063865\n",
            "Iteration: 163, RMSE: 0.007908646628663467, R2: 0.7059701978948769\n",
            "Iteration: 164, RMSE: 0.007906368283497455, R2: 0.7061395833577007\n",
            "Iteration: 165, RMSE: 0.007904135973677241, R2: 0.7063054989496639\n",
            "Iteration: 166, RMSE: 0.0078112570831757626, R2: 0.7131671602361658\n",
            "Iteration: 167, RMSE: 0.0078113059330948325, R2: 0.7131635726433692\n",
            "Iteration: 168, RMSE: 0.007811316125359951, R2: 0.7131628241091686\n",
            "Iteration: 169, RMSE: 0.007811362871607082, R2: 0.7131593909869094\n",
            "Iteration: 170, RMSE: 0.0078107366400335144, R2: 0.7132053807709062\n",
            "Iteration: 171, RMSE: 0.007808461833809996, R2: 0.7133724091093706\n",
            "Iteration: 172, RMSE: 0.0078082015227526995, R2: 0.7133915194256264\n",
            "Iteration: 173, RMSE: 0.007807708799844352, R2: 0.7134276901386949\n",
            "Iteration: 174, RMSE: 0.007807629729666492, R2: 0.7134334944557752\n",
            "Iteration: 175, RMSE: 0.007740084623625727, R2: 0.7183703162486359\n",
            "Iteration: 176, RMSE: 0.007738045300832944, R2: 0.7185187017507773\n",
            "Iteration: 177, RMSE: 0.0077371339656184274, R2: 0.7185849998153453\n",
            "Iteration: 178, RMSE: 0.007732589488674013, R2: 0.7189154861178151\n",
            "Iteration: 179, RMSE: 0.007547942760449988, R2: 0.7321792599590227\n",
            "Iteration: 180, RMSE: 0.007545142679883669, R2: 0.7323779314575726\n",
            "Iteration: 181, RMSE: 0.007545096654872617, R2: 0.7323811964113627\n",
            "Iteration: 182, RMSE: 0.0074375530098294345, R2: 0.7399558083231561\n",
            "Iteration: 183, RMSE: 0.007437609194057589, R2: 0.7399518794940478\n",
            "Iteration: 184, RMSE: 0.007435251452805545, R2: 0.7401167252082955\n",
            "Iteration: 185, RMSE: 0.007434109775564249, R2: 0.7401965288417999\n",
            "Iteration: 186, RMSE: 0.0074331746927740845, R2: 0.7402618823228082\n",
            "Iteration: 187, RMSE: 0.007433819629465149, R2: 0.7402168082013847\n",
            "Iteration: 188, RMSE: 0.007431127166155586, R2: 0.7404049564424556\n",
            "Iteration: 189, RMSE: 0.007430332266892638, R2: 0.7404604906481179\n",
            "Iteration: 190, RMSE: 0.007429494708977271, R2: 0.7405189986961944\n",
            "Iteration: 191, RMSE: 0.007429356955190012, R2: 0.7405286209277656\n",
            "Iteration: 192, RMSE: 0.007428719239388135, R2: 0.7405731636514126\n",
            "Iteration: 193, RMSE: 0.007428105326977372, R2: 0.7406160401604069\n",
            "Iteration: 194, RMSE: 0.0074194817587465165, R2: 0.7412179478543779\n",
            "Iteration: 195, RMSE: 0.007416639884606601, R2: 0.741416151772429\n",
            "Iteration: 196, RMSE: 0.007413036731019434, R2: 0.7416673412628891\n",
            "Iteration: 197, RMSE: 0.007411859188614877, R2: 0.7417494057421739\n",
            "Iteration: 198, RMSE: 0.007412465739342338, R2: 0.7417071360521423\n",
            "Iteration: 199, RMSE: 0.007350209609799421, R2: 0.7460276379071783\n",
            "Iteration: 200, RMSE: 0.0073502210269154565, R2: 0.7460268489135757\n"
          ]
        }
      ]
    },
    {
      "cell_type": "markdown",
      "source": [
        "Now let's plot R$^2$ vs the number of iterations for both active learning and random sampling."
      ],
      "metadata": {
        "id": "jCmG9UYx7WrI"
      }
    },
    {
      "cell_type": "code",
      "source": [
        "metrics = np.array(metrics)\n",
        "metrics_rand = np.array(metrics_rand)\n",
        "\n",
        "plt.plot(metrics[:,0], metrics[:,2])\n",
        "plt.plot(metrics_rand[:,0], metrics_rand[:,2])\n",
        "plt.legend(['AL', 'Random'])\n",
        "plt.xlabel('Iterations')\n",
        "plt.ylabel('$R^2$')\n",
        "plt.show()"
      ],
      "metadata": {
        "colab": {
          "base_uri": "https://localhost:8080/",
          "height": 451
        },
        "id": "y6pLGRuDpwxN",
        "outputId": "10d55b0c-6416-4b38-c733-34a34d8660d6"
      },
      "execution_count": 12,
      "outputs": [
        {
          "output_type": "display_data",
          "data": {
            "text/plain": [
              "<Figure size 640x480 with 1 Axes>"
            ],
            "image/png": "[encoded data removed]"
          },
          "metadata": {}
        }
      ]
    },
    {
      "cell_type": "markdown",
      "source": [
        "You can clearly see that Active Learning (AL) sampling is way better than Random sampling. Using 200 samples, we could reach R$^2$ = 0.96 by AL, while R$^2$ = 0.75 using Random sampling, and more samples are needed to get a better  R$^2$, i.e., more expensive simulations.\n",
        "\n",
        "You can use this notebook for your data, but GPR most likely will fail if the relation between your inputs and output is nonlinear.\n",
        "\n"
      ],
      "metadata": {
        "id": "-hFcMt-o8GQR"
      }
    }
  ]
}